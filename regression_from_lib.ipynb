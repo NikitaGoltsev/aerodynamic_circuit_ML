{
 "cells": [
  {
   "cell_type": "code",
   "execution_count": 49,
   "metadata": {},
   "outputs": [],
   "source": [
    "import pandas as pd\n",
    "import numpy as np\n",
    "from sklearn.neighbors import KNeighborsRegressor\n",
    "from sklearn.linear_model import LinearRegression, LogisticRegression\n",
    "from sklearn.svm import SVR\n",
    "from sklearn.ensemble import RandomForestRegressor\n",
    "from sklearn.metrics import r2_score\n",
    "from sklearn.model_selection import train_test_split\n",
    "from sklearn.linear_model import ElasticNet\n",
    "from sklearn.preprocessing import StandardScaler\n",
    "from sklearn.metrics import mean_absolute_percentage_error\n",
    "import matplotlib.pyplot as plt\n",
    "import seaborn as sns\n",
    "\n",
    "from matplotlib import colors # For intresting histes"
   ]
  },
  {
   "cell_type": "code",
   "execution_count": 50,
   "metadata": {},
   "outputs": [
    {
     "name": "stdout",
     "output_type": "stream",
     "text": [
      "   axial_max   tang_max  index_of_axm  index_of_tnm  axial_in_mxt   \n",
      "0 -16.549675 -17.654378            28            48    -10.975493  \\\n",
      "1 -16.564726 -17.815883            28            52    -14.410172   \n",
      "2 -16.335568 -17.578816            28            50    -12.664116   \n",
      "3 -15.968865 -17.108087            28            47    -10.236513   \n",
      "4 -15.227270 -16.266240            28            49    -12.056063   \n",
      "5 -14.682051 -15.377140            27            51    -13.252567   \n",
      "6 -14.086215 -14.515554            27            50    -12.391912   \n",
      "7 -13.962619 -13.729980            28            45     -9.941273   \n",
      "8 -13.620183 -13.183838            27            44     -9.637045   \n",
      "9 -12.883969 -11.235115            24            41     -8.141471   \n",
      "\n",
      "   tang_in_mxa  cone_angl   frequancy  \n",
      "0   -16.597827          4  126.984123  \n",
      "1   -16.724255          4  126.984123  \n",
      "2   -16.415995          4  125.152626  \n",
      "3   -15.878571          4  120.879120  \n",
      "4   -15.246275          4  114.774117  \n",
      "5   -14.618555          4  110.500610  \n",
      "6   -13.732776          4  106.837608  \n",
      "7   -13.021375          4  103.174606  \n",
      "8   -12.329567          4  100.122101  \n",
      "9    -9.640001          4   94.017097  \n"
     ]
    }
   ],
   "source": [
    "df = pd.read_csv('data/regresion_data.csv')\n",
    "df = df.drop(columns='Unnamed: 0')\n",
    "# there is no frq if there are no aerodnamic circuit => \n",
    "# => if label != 1.\n",
    "# then\n",
    "index_names = df[(df['label'] == 0)].index\n",
    "df.drop(index_names, inplace = True)\n",
    "# Also, after that segregation by the label, we can drop label column\n",
    "df = df.drop(columns='label')\n",
    "print(df.head(10))"
   ]
  },
  {
   "cell_type": "code",
   "execution_count": 51,
   "metadata": {},
   "outputs": [
    {
     "data": {
      "text/html": [
       "<div>\n",
       "<style scoped>\n",
       "    .dataframe tbody tr th:only-of-type {\n",
       "        vertical-align: middle;\n",
       "    }\n",
       "\n",
       "    .dataframe tbody tr th {\n",
       "        vertical-align: top;\n",
       "    }\n",
       "\n",
       "    .dataframe thead th {\n",
       "        text-align: right;\n",
       "    }\n",
       "</style>\n",
       "<table border=\"1\" class=\"dataframe\">\n",
       "  <thead>\n",
       "    <tr style=\"text-align: right;\">\n",
       "      <th></th>\n",
       "      <th>axial_max</th>\n",
       "      <th>tang_max</th>\n",
       "      <th>index_of_axm</th>\n",
       "      <th>index_of_tnm</th>\n",
       "      <th>axial_in_mxt</th>\n",
       "      <th>tang_in_mxa</th>\n",
       "      <th>cone_angl</th>\n",
       "      <th>frequancy</th>\n",
       "    </tr>\n",
       "  </thead>\n",
       "  <tbody>\n",
       "    <tr>\n",
       "      <th>axial_max</th>\n",
       "      <td>1.000000</td>\n",
       "      <td>0.900749</td>\n",
       "      <td>-0.729426</td>\n",
       "      <td>-0.752424</td>\n",
       "      <td>0.602443</td>\n",
       "      <td>0.899512</td>\n",
       "      <td>0.213329</td>\n",
       "      <td>-0.883728</td>\n",
       "    </tr>\n",
       "    <tr>\n",
       "      <th>tang_max</th>\n",
       "      <td>0.900749</td>\n",
       "      <td>1.000000</td>\n",
       "      <td>-0.804928</td>\n",
       "      <td>-0.780352</td>\n",
       "      <td>0.524339</td>\n",
       "      <td>0.979297</td>\n",
       "      <td>0.144075</td>\n",
       "      <td>-0.931279</td>\n",
       "    </tr>\n",
       "    <tr>\n",
       "      <th>index_of_axm</th>\n",
       "      <td>-0.729426</td>\n",
       "      <td>-0.804928</td>\n",
       "      <td>1.000000</td>\n",
       "      <td>0.613799</td>\n",
       "      <td>-0.345900</td>\n",
       "      <td>-0.759659</td>\n",
       "      <td>-0.084282</td>\n",
       "      <td>0.740377</td>\n",
       "    </tr>\n",
       "    <tr>\n",
       "      <th>index_of_tnm</th>\n",
       "      <td>-0.752424</td>\n",
       "      <td>-0.780352</td>\n",
       "      <td>0.613799</td>\n",
       "      <td>1.000000</td>\n",
       "      <td>-0.899130</td>\n",
       "      <td>-0.836412</td>\n",
       "      <td>-0.228411</td>\n",
       "      <td>0.751852</td>\n",
       "    </tr>\n",
       "    <tr>\n",
       "      <th>axial_in_mxt</th>\n",
       "      <td>0.602443</td>\n",
       "      <td>0.524339</td>\n",
       "      <td>-0.345900</td>\n",
       "      <td>-0.899130</td>\n",
       "      <td>1.000000</td>\n",
       "      <td>0.594057</td>\n",
       "      <td>0.247548</td>\n",
       "      <td>-0.480937</td>\n",
       "    </tr>\n",
       "    <tr>\n",
       "      <th>tang_in_mxa</th>\n",
       "      <td>0.899512</td>\n",
       "      <td>0.979297</td>\n",
       "      <td>-0.759659</td>\n",
       "      <td>-0.836412</td>\n",
       "      <td>0.594057</td>\n",
       "      <td>1.000000</td>\n",
       "      <td>0.175369</td>\n",
       "      <td>-0.944057</td>\n",
       "    </tr>\n",
       "    <tr>\n",
       "      <th>cone_angl</th>\n",
       "      <td>0.213329</td>\n",
       "      <td>0.144075</td>\n",
       "      <td>-0.084282</td>\n",
       "      <td>-0.228411</td>\n",
       "      <td>0.247548</td>\n",
       "      <td>0.175369</td>\n",
       "      <td>1.000000</td>\n",
       "      <td>-0.074179</td>\n",
       "    </tr>\n",
       "    <tr>\n",
       "      <th>frequancy</th>\n",
       "      <td>-0.883728</td>\n",
       "      <td>-0.931279</td>\n",
       "      <td>0.740377</td>\n",
       "      <td>0.751852</td>\n",
       "      <td>-0.480937</td>\n",
       "      <td>-0.944057</td>\n",
       "      <td>-0.074179</td>\n",
       "      <td>1.000000</td>\n",
       "    </tr>\n",
       "  </tbody>\n",
       "</table>\n",
       "</div>"
      ],
      "text/plain": [
       "              axial_max  tang_max  index_of_axm  index_of_tnm  axial_in_mxt   \n",
       "axial_max      1.000000  0.900749     -0.729426     -0.752424      0.602443  \\\n",
       "tang_max       0.900749  1.000000     -0.804928     -0.780352      0.524339   \n",
       "index_of_axm  -0.729426 -0.804928      1.000000      0.613799     -0.345900   \n",
       "index_of_tnm  -0.752424 -0.780352      0.613799      1.000000     -0.899130   \n",
       "axial_in_mxt   0.602443  0.524339     -0.345900     -0.899130      1.000000   \n",
       "tang_in_mxa    0.899512  0.979297     -0.759659     -0.836412      0.594057   \n",
       "cone_angl      0.213329  0.144075     -0.084282     -0.228411      0.247548   \n",
       "frequancy     -0.883728 -0.931279      0.740377      0.751852     -0.480937   \n",
       "\n",
       "              tang_in_mxa  cone_angl  frequancy  \n",
       "axial_max        0.899512   0.213329  -0.883728  \n",
       "tang_max         0.979297   0.144075  -0.931279  \n",
       "index_of_axm    -0.759659  -0.084282   0.740377  \n",
       "index_of_tnm    -0.836412  -0.228411   0.751852  \n",
       "axial_in_mxt     0.594057   0.247548  -0.480937  \n",
       "tang_in_mxa      1.000000   0.175369  -0.944057  \n",
       "cone_angl        0.175369   1.000000  -0.074179  \n",
       "frequancy       -0.944057  -0.074179   1.000000  "
      ]
     },
     "execution_count": 51,
     "metadata": {},
     "output_type": "execute_result"
    }
   ],
   "source": [
    "df.corr()"
   ]
  },
  {
   "cell_type": "code",
   "execution_count": 52,
   "metadata": {},
   "outputs": [
    {
     "data": {
      "text/plain": [
       "0.9155201509281296"
      ]
     },
     "metadata": {},
     "output_type": "display_data"
    }
   ],
   "source": [
    "y = df['frequancy']\n",
    "y.columns = 'frequancy'\n",
    "X = df.drop(columns='frequancy', axis = 1)\n",
    "X_train, X_test, y_train, y_test = train_test_split(\n",
    "  X, y, random_state=104, test_size=0.3, shuffle=True)\n",
    "sc = StandardScaler() \n",
    "X_train = sc.fit_transform(X_train) \n",
    "X_test = sc.transform(X_test)\n",
    "\n",
    "reg = LinearRegression()\n",
    "reg.fit(X_train, y_train)\n",
    "display(reg.score(X_test, y_test))\n"
   ]
  },
  {
   "cell_type": "code",
   "execution_count": 53,
   "metadata": {},
   "outputs": [
    {
     "data": {
      "text/plain": [
       "0.03887298291190839"
      ]
     },
     "execution_count": 53,
     "metadata": {},
     "output_type": "execute_result"
    }
   ],
   "source": [
    "# MSE and MSPE\n",
    "linreg_pred = reg.predict(X_test)\n",
    "mean_absolute_percentage_error(y_test, linreg_pred)"
   ]
  },
  {
   "cell_type": "code",
   "execution_count": 54,
   "metadata": {},
   "outputs": [
    {
     "data": {
      "text/plain": [
       "0.852540856502944"
      ]
     },
     "metadata": {},
     "output_type": "display_data"
    }
   ],
   "source": [
    "model = ElasticNet()\n",
    "model.fit(X_train, y_train)\n",
    "display(model.score(X_test, y_test))"
   ]
  },
  {
   "cell_type": "code",
   "execution_count": 55,
   "metadata": {},
   "outputs": [
    {
     "data": {
      "text/plain": [
       "0.0598836836996756"
      ]
     },
     "execution_count": 55,
     "metadata": {},
     "output_type": "execute_result"
    }
   ],
   "source": [
    "reg_pred = model.predict(X_test)\n",
    "mean_absolute_percentage_error(y_test, reg_pred)"
   ]
  },
  {
   "cell_type": "code",
   "execution_count": 56,
   "metadata": {},
   "outputs": [
    {
     "name": "stdout",
     "output_type": "stream",
     "text": [
      "492\n",
      "148\n",
      "[127.78802693  78.0192383  113.53736849  80.04839717  86.6634743\n",
      "  81.05386138  77.36471026  93.92863362  93.40478077  95.96494093\n",
      "  82.49246848  74.77985984  87.04729789  93.14473493  80.42049826\n",
      "  87.77878458  76.34465971 101.31852188 118.10330602  80.0738339\n",
      "  84.3752282   92.82739743 101.30300458  82.85099819  84.59956544\n",
      " 100.83018101 114.94591134 119.44828629  92.06793421  90.61866797\n",
      "  83.08879464 116.36349037  90.32089779  74.16910096 110.22610585\n",
      "  91.95591265 100.48425081  87.70976201 121.59831659 105.15573326\n",
      "  99.6611161  116.08223571 108.88240182  94.14709531  87.3547685\n",
      " 120.89448768  98.80441891 114.51860688 122.39015879  94.96001677\n",
      "  96.64339886  74.869254   115.06322544  84.6927859   81.38293683\n",
      " 119.27369467  92.85923589 120.14362981  95.71713481  87.99093841\n",
      "  97.61619619 103.31035689 103.38069077  95.0778327   84.70379398\n",
      "  98.70141584 109.03818211  97.42869396  92.47798311  89.57938639\n",
      " 123.44488677  99.07270103  80.01897647 122.00543835  95.82284133\n",
      " 108.04754695  88.72494896  83.30808479  78.9068185  111.97852663\n",
      "  77.77357763  92.80125436  90.52703405 111.56040171  94.93708677\n",
      " 106.54807138  77.68533757  78.14538288 101.83106766 115.69908034\n",
      "  87.7884425   76.42900525  94.61450726  81.5882474  113.81894331\n",
      "  78.7548169   92.48861051  82.47279255 113.16700201 106.21146373\n",
      " 115.17211564  91.35470321  76.37246998  91.10953802  75.64458864\n",
      " 123.06574728 106.79264509  94.91331225 115.8842224   80.84186422\n",
      "  99.65836244 102.04222118  74.74787216  80.0248035   94.06293477\n",
      "  80.91759275 101.18532589  81.53015311  84.03731923  93.05068326\n",
      "  79.63599236  84.34283596  85.93478965  77.71056656 114.01364069\n",
      "  91.84727908  78.62455138 111.6623733  118.2872143   98.17887192\n",
      " 121.04640241  79.36244336 110.64610916  95.22579861 109.45916001\n",
      " 104.25854203  76.13073052  77.06335554  89.78033632  79.34851573\n",
      "  84.34730454 107.58754371  82.12740675  95.2292846  119.86840227\n",
      "  73.4047171   92.06154321  78.99925651]\n"
     ]
    }
   ],
   "source": [
    "print(df.shape[0])\n",
    "print(reg_pred.shape[0])\n",
    "print(reg_pred)"
   ]
  },
  {
   "cell_type": "code",
   "execution_count": 62,
   "metadata": {},
   "outputs": [
    {
     "data": {
      "image/png": "[encoded data removed]",
      "text/plain": [
       "<Figure size 300x300 with 1 Axes>"
      ]
     },
     "metadata": {},
     "output_type": "display_data"
    }
   ],
   "source": [
    "losses = reg_pred - y_test\n",
    "#for i in range(reg_pred.shape[0]):\n",
    "    #l = reg_pred[i] - y_test[i]\n",
    "\n",
    "# Creating histogram\n",
    "fig, axs = plt.subplots(1, 1,\n",
    "                        figsize =(3, 3),\n",
    "                        tight_layout = True)\n",
    "legend = ['loss in moment']\n",
    "\n",
    "for s in ['top', 'bottom', 'left', 'right']:\n",
    "    axs.spines[s].set_visible(False)\n",
    "\n",
    "axs.xaxis.set_ticks_position('none')\n",
    "axs.yaxis.set_ticks_position('none')\n",
    "\n",
    "axs.xaxis.set_ticks_position('none')\n",
    "axs.yaxis.set_ticks_position('none')\n",
    "\n",
    "# Add x, y gridlines\n",
    "'''axs.grid(b = True, color ='grey',\n",
    "        linestyle ='-.', linewidth = 0.5,\n",
    "        alpha = 0.6)'''\n",
    "\n",
    "# Add Text watermark\n",
    "'''fig.text(0.9, 0.15, 'Jeeteshgavande30',\n",
    "         fontsize = 12,\n",
    "         color ='red',\n",
    "         ha ='right',\n",
    "         va ='bottom',\n",
    "         alpha = 0.7)'''\n",
    "\n",
    "#\n",
    "n_bins = 20\n",
    "N, bins, patches = axs.hist(losses, bins = n_bins)\n",
    "# Setting color\n",
    "fracs = ((N**(1 / 5)) / N.max())\n",
    "norm = colors.Normalize(fracs.min(), fracs.max())\n",
    " \n",
    "for thisfrac, thispatch in zip(fracs, patches):\n",
    "    color = plt.cm.viridis(norm(thisfrac))\n",
    "    thispatch.set_facecolor(color)\n",
    " \n",
    "# Adding extra features   \n",
    "plt.xlabel(\"Error in frequancy prediction [Hz]\")\n",
    "plt.ylabel(\"Number_of_predictions\")\n",
    "plt.legend(legend)\n",
    "plt.title('Errors in ElasticNet')\n",
    " \n",
    "# Show plot\n",
    "plt.show()\n"
   ]
  },
  {
   "cell_type": "code",
   "execution_count": 61,
   "metadata": {},
   "outputs": [
    {
     "data": {
      "image/png": "[encoded data removed]",
      "text/plain": [
       "<Figure size 500x500 with 1 Axes>"
      ]
     },
     "metadata": {},
     "output_type": "display_data"
    }
   ],
   "source": [
    "#Regression lost\n",
    "losses = linreg_pred - y_test\n",
    "#for i in range(reg_pred.shape[0]):\n",
    "    #l = reg_pred[i] - y_test[i]\n",
    "\n",
    "# Creating histogram\n",
    "fig, axs = plt.subplots(1, 1,\n",
    "                        figsize =(5, 5),\n",
    "                        tight_layout = True)\n",
    "legend = ['loss in moment']\n",
    "\n",
    "for s in ['top', 'bottom', 'left', 'right']:\n",
    "    axs.spines[s].set_visible(False)\n",
    "\n",
    "axs.xaxis.set_ticks_position('none')\n",
    "axs.yaxis.set_ticks_position('none')\n",
    "\n",
    "axs.xaxis.set_ticks_position('none')\n",
    "axs.yaxis.set_ticks_position('none')\n",
    "\n",
    "# Add x, y gridlines\n",
    "'''axs.grid(b = True, color ='grey',\n",
    "        linestyle ='-.', linewidth = 0.5,\n",
    "        alpha = 0.6)'''\n",
    "\n",
    "# Add Text watermark\n",
    "'''fig.text(0.9, 0.15, 'Jeeteshgavande30',\n",
    "         fontsize = 12,\n",
    "         color ='red',\n",
    "         ha ='right',\n",
    "         va ='bottom',\n",
    "         alpha = 0.7)'''\n",
    "\n",
    "#\n",
    "n_bins = 20\n",
    "N, bins, patches = axs.hist(losses, bins = n_bins)\n",
    "# Setting color\n",
    "fracs = ((N**(1 / 5)) / N.max())\n",
    "norm = colors.Normalize(fracs.min(), fracs.max())\n",
    " \n",
    "for thisfrac, thispatch in zip(fracs, patches):\n",
    "    color = plt.cm.viridis(norm(thisfrac))\n",
    "    thispatch.set_facecolor(color)\n",
    " \n",
    "# Adding extra features   \n",
    "plt.xlabel(\"Error in frequancy prediction [Hz]\")\n",
    "plt.ylabel(\"Number_of_predictions\")\n",
    "plt.legend(legend)\n",
    "plt.title('Errors in LinearRegression')\n",
    " \n",
    "# Show plot\n",
    "plt.show()"
   ]
  }
 ],
 "metadata": {
  "kernelspec": {
   "display_name": "Python 3",
   "language": "python",
   "name": "python3"
  },
  "language_info": {
   "codemirror_mode": {
    "name": "ipython",
    "version": 3
   },
   "file_extension": ".py",
   "mimetype": "text/x-python",
   "name": "python",
   "nbconvert_exporter": "python",
   "pygments_lexer": "ipython3",
   "version": "3.11.3"
  },
  "orig_nbformat": 4
 },
 "nbformat": 4,
 "nbformat_minor": 2
}
