{
 "cells": [
  {
   "cell_type": "code",
   "execution_count": 62,
   "metadata": {},
   "outputs": [],
   "source": [
    "import numpy as np\n",
    "import pandas as pd\n",
    "\n",
    "import matplotlib.pyplot as plt\n",
    "import seaborn as sns\n",
    "\n",
    "from sklearn.model_selection import train_test_split\n",
    "from sklearn.preprocessing import StandardScaler \n",
    "from sklearn.decomposition import PCA\n",
    "from sklearn.ensemble import RandomForestClassifier\n",
    "\n",
    "from sklearn.metrics import precision_score\n",
    "from sklearn.metrics import recall_score\n",
    "from sklearn.metrics import accuracy_score\n",
    "from sklearn.metrics import confusion_matrix"
   ]
  },
  {
   "cell_type": "code",
   "execution_count": 63,
   "metadata": {},
   "outputs": [
    {
     "name": "stdout",
     "output_type": "stream",
     "text": [
      "     cone_angl  axial_speed_29  Tang_speed_1  axial_speed_13  axial_speed_14\n",
      "0            4       -8.669823     -5.970736       -6.166315       -7.136740\n",
      "1            4       -8.705559     -5.794015       -6.256927       -6.994033\n",
      "2            4      -13.429288     -5.865189       -6.490776       -7.097423\n",
      "3            4       -8.342436     -5.752190       -6.534811       -7.432023\n",
      "4            4      -12.177889     -5.174568       -7.279130       -7.750810\n",
      "..         ...             ...           ...             ...             ...\n",
      "701         15       -5.509702     -4.254965      -10.747050      -11.101165\n",
      "702         15       -5.584570     -3.990488      -11.063985      -11.233110\n",
      "703         15       -5.848363     -4.098262      -10.987417      -11.373026\n",
      "704         15       -5.801682     -4.373897      -10.868239      -11.130290\n",
      "705         15       -5.848571     -4.733319      -10.948815      -11.132590\n",
      "\n",
      "[706 rows x 5 columns]\n"
     ]
    }
   ],
   "source": [
    "data = pd.read_csv('./data/fresh_data.csv')\n",
    "data = data.drop(['pls_ampl', 'frequency', 'Unnamed: 0'], axis=1)\n",
    "X_obj = data[['cone_angl', 'axial_speed_29', 'Tang_speed_1', 'axial_speed_13', 'axial_speed_14']]\n",
    "y_label = data['label']\n",
    "y_label.columns = ['label']\n",
    "X_train, X_test, y_train, y_test = train_test_split(\n",
    "  X_obj, y_label, random_state=104, test_size=0.5, shuffle=True)\n",
    "print(X_obj)"
   ]
  },
  {
   "cell_type": "code",
   "execution_count": 64,
   "metadata": {},
   "outputs": [
    {
     "data": {
      "text/plain": [
       "1.0"
      ]
     },
     "metadata": {},
     "output_type": "display_data"
    }
   ],
   "source": [
    "sc = StandardScaler() \n",
    "X_train = sc.fit_transform(X_train) \n",
    "X_test = sc.transform(X_test)\n",
    "rfc = RandomForestClassifier(n_estimators = 100, max_depth=20, class_weight={0:0.68, 1:0.4, 2:0.21, 3:0.1, 4:0.1})\n",
    "rfc.fit(X_train, y_train)\n",
    "display(rfc.score(X_train, y_train))"
   ]
  },
  {
   "cell_type": "code",
   "execution_count": null,
   "metadata": {},
   "outputs": [],
   "source": []
  },
  {
   "cell_type": "code",
   "execution_count": 65,
   "metadata": {},
   "outputs": [
    {
     "data": {
      "text/html": [
       "<div>\n",
       "<style scoped>\n",
       "    .dataframe tbody tr th:only-of-type {\n",
       "        vertical-align: middle;\n",
       "    }\n",
       "\n",
       "    .dataframe tbody tr th {\n",
       "        vertical-align: top;\n",
       "    }\n",
       "\n",
       "    .dataframe thead th {\n",
       "        text-align: right;\n",
       "    }\n",
       "</style>\n",
       "<table border=\"1\" class=\"dataframe\">\n",
       "  <thead>\n",
       "    <tr style=\"text-align: right;\">\n",
       "      <th></th>\n",
       "      <th>predicted 0</th>\n",
       "      <th>predicted 1</th>\n",
       "    </tr>\n",
       "  </thead>\n",
       "  <tbody>\n",
       "    <tr>\n",
       "      <th>actual 0</th>\n",
       "      <td>106</td>\n",
       "      <td>5</td>\n",
       "    </tr>\n",
       "    <tr>\n",
       "      <th>actual 1</th>\n",
       "      <td>5</td>\n",
       "      <td>237</td>\n",
       "    </tr>\n",
       "  </tbody>\n",
       "</table>\n",
       "</div>"
      ],
      "text/plain": [
       "          predicted 0  predicted 1\n",
       "actual 0          106            5\n",
       "actual 1            5          237"
      ]
     },
     "metadata": {},
     "output_type": "display_data"
    },
    {
     "data": {
      "text/plain": [
       "'accuracy = '"
      ]
     },
     "metadata": {},
     "output_type": "display_data"
    },
    {
     "data": {
      "text/plain": [
       "0.9716713881019831"
      ]
     },
     "metadata": {},
     "output_type": "display_data"
    },
    {
     "data": {
      "text/plain": [
       "'recall = '"
      ]
     },
     "metadata": {},
     "output_type": "display_data"
    },
    {
     "data": {
      "text/plain": [
       "0.9793388429752066"
      ]
     },
     "metadata": {},
     "output_type": "display_data"
    },
    {
     "data": {
      "text/plain": [
       "'precision = '"
      ]
     },
     "metadata": {},
     "output_type": "display_data"
    },
    {
     "data": {
      "text/plain": [
       "0.9793388429752066"
      ]
     },
     "metadata": {},
     "output_type": "display_data"
    }
   ],
   "source": [
    "# Prediction of rfc model\n",
    "y_pred = rfc.predict(X_test)\n",
    "\n",
    "conf_matrix_baseline = pd.DataFrame(confusion_matrix(y_test, y_pred), index = ['actual 0', 'actual 1'], columns = ['predicted 0', 'predicted 1'])\n",
    "display(conf_matrix_baseline)\n",
    "display('accuracy = ', accuracy_score(y_test, y_pred))\n",
    "display('recall = ', recall_score(y_test, y_pred))\n",
    "display('precision = ', precision_score(y_test, y_pred))"
   ]
  }
 ],
 "metadata": {
  "kernelspec": {
   "display_name": "Python 3",
   "language": "python",
   "name": "python3"
  },
  "language_info": {
   "codemirror_mode": {
    "name": "ipython",
    "version": 3
   },
   "file_extension": ".py",
   "mimetype": "text/x-python",
   "name": "python",
   "nbconvert_exporter": "python",
   "pygments_lexer": "ipython3",
   "version": "3.11.3"
  },
  "orig_nbformat": 4
 },
 "nbformat": 4,
 "nbformat_minor": 2
}
