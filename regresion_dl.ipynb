{
 "cells": [
  {
   "cell_type": "code",
   "execution_count": 23,
   "metadata": {},
   "outputs": [],
   "source": [
    "import numpy as np\n",
    "import pandas as pd\n",
    "import seaborn as sns\n",
    "import random\n",
    "from warnings import filterwarnings\n",
    "import torch\n",
    "import torch.nn as nn\n",
    "import torch.optim as optim\n",
    "import torch.utils.data as Data\n",
    "from torch.utils.data import DataLoader, Dataset, random_split\n",
    "import torch.nn.functional as F\n",
    "from sklearn import preprocessing\n",
    "from sklearn.preprocessing import StandardScaler\n",
    "from sklearn.model_selection import train_test_split\n",
    "import matplotlib.pyplot as plt\n",
    "filterwarnings('ignore')"
   ]
  },
  {
   "cell_type": "markdown",
   "metadata": {},
   "source": [
    "1. Our date here is csv file"
   ]
  },
  {
   "cell_type": "code",
   "execution_count": 24,
   "metadata": {},
   "outputs": [
    {
     "name": "stdout",
     "output_type": "stream",
     "text": [
      "   axial_max   tang_max  index_of_axm  index_of_tnm  axial_in_mxt   \n",
      "0 -16.549675 -17.654378            28            48    -10.975493  \\\n",
      "1 -16.564726 -17.815883            28            52    -14.410172   \n",
      "2 -16.335568 -17.578816            28            50    -12.664116   \n",
      "3 -15.968865 -17.108087            28            47    -10.236513   \n",
      "4 -15.227270 -16.266240            28            49    -12.056063   \n",
      "5 -14.682051 -15.377140            27            51    -13.252567   \n",
      "6 -14.086215 -14.515554            27            50    -12.391912   \n",
      "7 -13.962619 -13.729980            28            45     -9.941273   \n",
      "8 -13.620183 -13.183838            27            44     -9.637045   \n",
      "9 -12.883969 -11.235115            24            41     -8.141471   \n",
      "\n",
      "   tang_in_mxa  cone_angl   frequancy  \n",
      "0   -16.597827          4  126.984123  \n",
      "1   -16.724255          4  126.984123  \n",
      "2   -16.415995          4  125.152626  \n",
      "3   -15.878571          4  120.879120  \n",
      "4   -15.246275          4  114.774117  \n",
      "5   -14.618555          4  110.500610  \n",
      "6   -13.732776          4  106.837608  \n",
      "7   -13.021375          4  103.174606  \n",
      "8   -12.329567          4  100.122101  \n",
      "9    -9.640001          4   94.017097  \n"
     ]
    }
   ],
   "source": [
    "df = pd.read_csv('./data/regresion_data.csv')\n",
    "df = df.drop(columns='Unnamed: 0')\n",
    "# there is no frq if there are no aerodnamic circuit => \n",
    "# => if label != 1.\n",
    "# then\n",
    "index_names = df[(df['label'] == 0)].index\n",
    "df.drop(index_names, inplace = True)\n",
    "# Also, after that segregation by the label, we can drop label column\n",
    "df = df.drop(columns='label')\n",
    "print(df.head(10))"
   ]
  },
  {
   "cell_type": "code",
   "execution_count": 25,
   "metadata": {},
   "outputs": [
    {
     "data": {
      "text/html": [
       "<div>\n",
       "<style scoped>\n",
       "    .dataframe tbody tr th:only-of-type {\n",
       "        vertical-align: middle;\n",
       "    }\n",
       "\n",
       "    .dataframe tbody tr th {\n",
       "        vertical-align: top;\n",
       "    }\n",
       "\n",
       "    .dataframe thead th {\n",
       "        text-align: right;\n",
       "    }\n",
       "</style>\n",
       "<table border=\"1\" class=\"dataframe\">\n",
       "  <thead>\n",
       "    <tr style=\"text-align: right;\">\n",
       "      <th></th>\n",
       "      <th>axial_max</th>\n",
       "      <th>tang_max</th>\n",
       "      <th>index_of_axm</th>\n",
       "      <th>index_of_tnm</th>\n",
       "      <th>axial_in_mxt</th>\n",
       "      <th>tang_in_mxa</th>\n",
       "      <th>cone_angl</th>\n",
       "      <th>frequancy</th>\n",
       "    </tr>\n",
       "  </thead>\n",
       "  <tbody>\n",
       "    <tr>\n",
       "      <th>axial_max</th>\n",
       "      <td>1.000000</td>\n",
       "      <td>0.900749</td>\n",
       "      <td>-0.729426</td>\n",
       "      <td>-0.752424</td>\n",
       "      <td>0.602443</td>\n",
       "      <td>0.899512</td>\n",
       "      <td>0.213329</td>\n",
       "      <td>-0.883728</td>\n",
       "    </tr>\n",
       "    <tr>\n",
       "      <th>tang_max</th>\n",
       "      <td>0.900749</td>\n",
       "      <td>1.000000</td>\n",
       "      <td>-0.804928</td>\n",
       "      <td>-0.780352</td>\n",
       "      <td>0.524339</td>\n",
       "      <td>0.979297</td>\n",
       "      <td>0.144075</td>\n",
       "      <td>-0.931279</td>\n",
       "    </tr>\n",
       "    <tr>\n",
       "      <th>index_of_axm</th>\n",
       "      <td>-0.729426</td>\n",
       "      <td>-0.804928</td>\n",
       "      <td>1.000000</td>\n",
       "      <td>0.613799</td>\n",
       "      <td>-0.345900</td>\n",
       "      <td>-0.759659</td>\n",
       "      <td>-0.084282</td>\n",
       "      <td>0.740377</td>\n",
       "    </tr>\n",
       "    <tr>\n",
       "      <th>index_of_tnm</th>\n",
       "      <td>-0.752424</td>\n",
       "      <td>-0.780352</td>\n",
       "      <td>0.613799</td>\n",
       "      <td>1.000000</td>\n",
       "      <td>-0.899130</td>\n",
       "      <td>-0.836412</td>\n",
       "      <td>-0.228411</td>\n",
       "      <td>0.751852</td>\n",
       "    </tr>\n",
       "    <tr>\n",
       "      <th>axial_in_mxt</th>\n",
       "      <td>0.602443</td>\n",
       "      <td>0.524339</td>\n",
       "      <td>-0.345900</td>\n",
       "      <td>-0.899130</td>\n",
       "      <td>1.000000</td>\n",
       "      <td>0.594057</td>\n",
       "      <td>0.247548</td>\n",
       "      <td>-0.480937</td>\n",
       "    </tr>\n",
       "    <tr>\n",
       "      <th>tang_in_mxa</th>\n",
       "      <td>0.899512</td>\n",
       "      <td>0.979297</td>\n",
       "      <td>-0.759659</td>\n",
       "      <td>-0.836412</td>\n",
       "      <td>0.594057</td>\n",
       "      <td>1.000000</td>\n",
       "      <td>0.175369</td>\n",
       "      <td>-0.944057</td>\n",
       "    </tr>\n",
       "    <tr>\n",
       "      <th>cone_angl</th>\n",
       "      <td>0.213329</td>\n",
       "      <td>0.144075</td>\n",
       "      <td>-0.084282</td>\n",
       "      <td>-0.228411</td>\n",
       "      <td>0.247548</td>\n",
       "      <td>0.175369</td>\n",
       "      <td>1.000000</td>\n",
       "      <td>-0.074179</td>\n",
       "    </tr>\n",
       "    <tr>\n",
       "      <th>frequancy</th>\n",
       "      <td>-0.883728</td>\n",
       "      <td>-0.931279</td>\n",
       "      <td>0.740377</td>\n",
       "      <td>0.751852</td>\n",
       "      <td>-0.480937</td>\n",
       "      <td>-0.944057</td>\n",
       "      <td>-0.074179</td>\n",
       "      <td>1.000000</td>\n",
       "    </tr>\n",
       "  </tbody>\n",
       "</table>\n",
       "</div>"
      ],
      "text/plain": [
       "              axial_max  tang_max  index_of_axm  index_of_tnm  axial_in_mxt   \n",
       "axial_max      1.000000  0.900749     -0.729426     -0.752424      0.602443  \\\n",
       "tang_max       0.900749  1.000000     -0.804928     -0.780352      0.524339   \n",
       "index_of_axm  -0.729426 -0.804928      1.000000      0.613799     -0.345900   \n",
       "index_of_tnm  -0.752424 -0.780352      0.613799      1.000000     -0.899130   \n",
       "axial_in_mxt   0.602443  0.524339     -0.345900     -0.899130      1.000000   \n",
       "tang_in_mxa    0.899512  0.979297     -0.759659     -0.836412      0.594057   \n",
       "cone_angl      0.213329  0.144075     -0.084282     -0.228411      0.247548   \n",
       "frequancy     -0.883728 -0.931279      0.740377      0.751852     -0.480937   \n",
       "\n",
       "              tang_in_mxa  cone_angl  frequancy  \n",
       "axial_max        0.899512   0.213329  -0.883728  \n",
       "tang_max         0.979297   0.144075  -0.931279  \n",
       "index_of_axm    -0.759659  -0.084282   0.740377  \n",
       "index_of_tnm    -0.836412  -0.228411   0.751852  \n",
       "axial_in_mxt     0.594057   0.247548  -0.480937  \n",
       "tang_in_mxa      1.000000   0.175369  -0.944057  \n",
       "cone_angl        0.175369   1.000000  -0.074179  \n",
       "frequancy       -0.944057  -0.074179   1.000000  "
      ]
     },
     "execution_count": 25,
     "metadata": {},
     "output_type": "execute_result"
    }
   ],
   "source": [
    "df.corr()"
   ]
  },
  {
   "cell_type": "code",
   "execution_count": 26,
   "metadata": {},
   "outputs": [
    {
     "data": {
      "text/plain": [
       "<Axes: >"
      ]
     },
     "execution_count": 26,
     "metadata": {},
     "output_type": "execute_result"
    },
    {
     "data": {
      "image/png": "[encoded data removed]",
      "text/plain": [
       "<Figure size 640x480 with 2 Axes>"
      ]
     },
     "metadata": {},
     "output_type": "display_data"
    }
   ],
   "source": [
    "# check of independense\n",
    "\n",
    "# Lets build something to visualise undepandance od data features\n",
    "corr = df.iloc[:,:].corr(method='pearson')\n",
    "cmap = sns.diverging_palette(250, 354, 80, 60, center = 'dark', as_cmap = True)\n",
    "sns.heatmap(corr, vmax=1, vmin=-.5, cmap=cmap, square=True, linewidths=.2)"
   ]
  },
  {
   "cell_type": "code",
   "execution_count": 27,
   "metadata": {},
   "outputs": [
    {
     "data": {
      "text/plain": [
       "<Axes: >"
      ]
     },
     "execution_count": 27,
     "metadata": {},
     "output_type": "execute_result"
    },
    {
     "data": {
      "image/png": "[encoded data removed]",
      "text/plain": [
       "<Figure size 640x480 with 1 Axes>"
      ]
     },
     "metadata": {},
     "output_type": "display_data"
    }
   ],
   "source": [
    "df['frequancy'].hist()"
   ]
  },
  {
   "cell_type": "markdown",
   "metadata": {},
   "source": [
    "2. Let's try with not full data"
   ]
  },
  {
   "cell_type": "code",
   "execution_count": 28,
   "metadata": {},
   "outputs": [
    {
     "name": "stdout",
     "output_type": "stream",
     "text": [
      "(492, 3)\n"
     ]
    }
   ],
   "source": [
    "df_first_modl = df[['tang_max', 'tang_in_mxa', 'frequancy']]\n",
    "\n",
    "print(df_first_modl.shape)"
   ]
  },
  {
   "cell_type": "code",
   "execution_count": 29,
   "metadata": {},
   "outputs": [],
   "source": [
    "# determine the supported device\n",
    "def get_device():\n",
    "    if torch.cuda.is_available():\n",
    "        device = torch.device('cuda:0')\n",
    "    else:\n",
    "        device = torch.device('cpu') # don't have GPU \n",
    "    return device\n"
   ]
  },
  {
   "cell_type": "code",
   "execution_count": 30,
   "metadata": {},
   "outputs": [],
   "source": [
    "# Define a Dataset\n",
    "def dataframe_to_arrays(input_cols, output_cols, dataframe):\n",
    "    # Make a copy of the original dataframe\n",
    "    dataframe1 = dataframe.copy(deep=True)\n",
    "    # Convert non-numeric categorical columns to numbers\n",
    "    # Extract input & outupts as numpy arrays\n",
    "    inputs_array = dataframe1[input_cols].to_numpy()\n",
    "    targets_array = dataframe1[output_cols].to_numpy()\n",
    "    return inputs_array, targets_array\n",
    "\n",
    "'''\n",
    "inputs = torch.tensor(inputs_array, dtype=torch.float32)\n",
    "targets = torch.tensor(targets_array, dtype=torch.float32)\n",
    "'''\n",
    "\n",
    "# Define a Dataset\n",
    "class RegressionDataset(Dataset):\n",
    "    def __init__(self, X, y):\n",
    "        super().__init__()\n",
    "        self.X = torch.from_numpy(X.astype('float32'))\n",
    "        self.y = torch.from_numpy(y.astype('float32'))\n",
    "\n",
    "    def __len__(self):\n",
    "        return len(self.X)\n",
    "    \n",
    "    def __getitem__(self, index):\n",
    "        return self.X[index], self.y[index].unsqueeze(0)\n",
    "\n",
    "col = df_first_modl.columns\n",
    "inputs_array, targets_array = dataframe_to_arrays(col[0:1], col[2], df_first_modl)\n",
    "dataset = RegressionDataset(inputs_array, targets_array)"
   ]
  },
  {
   "cell_type": "code",
   "execution_count": 31,
   "metadata": {},
   "outputs": [],
   "source": [
    "# Like thrain/test/split ?\n",
    "train_dataset, test_dataset = random_split(dataset, lengths=[0.8, 0.2])\n",
    "\n",
    "# Create DataLoaders ? For what ?\n",
    "train_loader = DataLoader(\n",
    "    dataset=train_dataset,\n",
    "    batch_size=64,\n",
    "    shuffle=True\n",
    ")\n",
    "\n",
    "test_loader = DataLoader(\n",
    "    dataset=test_dataset,\n",
    "    batch_size=64,\n",
    "    shuffle=True\n",
    ")"
   ]
  },
  {
   "cell_type": "code",
   "execution_count": 32,
   "metadata": {},
   "outputs": [],
   "source": [
    "# Define Linear Regression Class\n",
    "class LinearRegressionSimple(nn.Module):\n",
    "    def __init__(self, in_features=1, out_features=1):\n",
    "        super().__init__()\n",
    "        self.linear = nn.Linear(\n",
    "            in_features=in_features, \n",
    "            out_features=out_features\n",
    "            )\n",
    "\n",
    "    def forward(self, x):\n",
    "        return self.linear(x)\n",
    "\n",
    "# Another regresion model\n",
    "# That's Multiple regression model\n",
    "class MultipleRegression(nn.Module):\n",
    "    \n",
    "    def __init__(self, n_weight:int):\n",
    "        super(MultipleRegression, self).__init__()\n",
    "        \"\"\"Initializing a Multiple regression model of the form:\n",
    "        \n",
    "    \n",
    "        Args:\n",
    "          n_weight (int): number of weigths\n",
    "  \n",
    "        \"\"\"\n",
    "        self.w = torch.randn(size =(n_weight,1), dtype=torch.double, \n",
    "                             requires_grad=True)\n",
    "        self.b = torch.randn(1, requires_grad=True)\n",
    "\n",
    "    def forward(self, X:torch.Tensor):\n",
    "        \"\"\"Forward pass for\n",
    "        y = X * w.T + b\n",
    "\n",
    "        Args:\n",
    "          X (torch.Tensor): 2D tensor of observations x features\n",
    "\n",
    "        Returns:\n",
    "          torch.Tensor: model predictions\n",
    "        \"\"\"\n",
    "        assert isinstance(X, torch.Tensor)\n",
    "        prediction = X @ self.w + self.b\n",
    "        return prediction"
   ]
  },
  {
   "cell_type": "markdown",
   "metadata": {},
   "source": [
    "3. Train with linear regresion model, to see the base result"
   ]
  },
  {
   "cell_type": "code",
   "execution_count": 33,
   "metadata": {},
   "outputs": [],
   "source": [
    "model = LinearRegressionSimple()\n",
    "\n",
    "# Adding Loss Function and Optimizer\n",
    "criterion = nn.MSELoss()\n",
    "optimizer = optim.SGD(params=model.parameters(), lr=0.001)\n",
    "\n",
    "# Defining our device\n",
    "device = 'cuda' if torch.cuda.is_available() else 'cpu'\n",
    "\n",
    "# Setting up lists to track losses\n",
    "train_losses = []\n",
    "val_losses = []\n",
    "\n",
    "# Defining a Training Function\n",
    "def train(model, train_loader, criterion, optimizer, epoch, num_epochs):\n",
    "    model.train()\n",
    "    train_loss = 0.0\n",
    "\n",
    "    for inputs, targets in train_loader:\n",
    "        inputs = inputs.to(device)\n",
    "        targets = targets.to(device)\n",
    "\n",
    "        # Forward pass\n",
    "        outputs = model(inputs)\n",
    "        loss = criterion(outputs, targets)\n",
    "        optimizer.zero_grad()\n",
    "        train_loss += loss.item()\n",
    "\n",
    "        # Backward pass and optimization\n",
    "        loss.backward()\n",
    "        optimizer.step()\n",
    "\n",
    "    avg_loss = train_loss/len(train_loader)\n",
    "    print(f'Epoch [{epoch + 1:03}/{num_epochs:03}] | Train Loss: {avg_loss:.4f}')\n",
    "    train_losses.append(train_loss/len(train_loader))\n",
    "\n",
    "# Defining a Validation Function\n",
    "def validate(model, val_loader, criterion, device):\n",
    "    model.eval()\n",
    "    val_loss = 0.0\n",
    "\n",
    "    with torch.no_grad():\n",
    "        for inputs, targets in val_loader:\n",
    "            inputs = inputs.to(device)\n",
    "            targets = targets.to(device)\n",
    "\n",
    "            # Forward pass\n",
    "            outputs = model(inputs)\n",
    "            loss = criterion(outputs, targets)\n",
    "            val_loss += loss.item()\n",
    "\n",
    "    avg_loss = val_loss / len(val_loader)\n",
    "    print(f'Validation Loss: {avg_loss:.4f}')\n",
    "    val_losses.append(avg_loss)"
   ]
  },
  {
   "cell_type": "code",
   "execution_count": 34,
   "metadata": {},
   "outputs": [
    {
     "name": "stdout",
     "output_type": "stream",
     "text": [
      "Epoch [001/030] | Train Loss: 3274.0359\n",
      "Validation Loss: 156.7329\n",
      "Epoch [002/030] | Train Loss: 96.6165\n",
      "Validation Loss: 67.8485\n",
      "Epoch [003/030] | Train Loss: 74.6688\n",
      "Validation Loss: 71.9214\n",
      "Epoch [004/030] | Train Loss: 79.0509\n",
      "Validation Loss: 68.2148\n",
      "Epoch [005/030] | Train Loss: 72.8680\n",
      "Validation Loss: 73.6388\n",
      "Epoch [006/030] | Train Loss: 75.8667\n",
      "Validation Loss: 73.4369\n",
      "Epoch [007/030] | Train Loss: 76.2749\n",
      "Validation Loss: 72.3958\n",
      "Epoch [008/030] | Train Loss: 82.1870\n",
      "Validation Loss: 65.4751\n",
      "Epoch [009/030] | Train Loss: 70.7648\n",
      "Validation Loss: 65.5695\n",
      "Epoch [010/030] | Train Loss: 73.4667\n",
      "Validation Loss: 59.8702\n",
      "Epoch [011/030] | Train Loss: 85.8247\n",
      "Validation Loss: 73.4561\n",
      "Epoch [012/030] | Train Loss: 81.0189\n",
      "Validation Loss: 68.4328\n",
      "Epoch [013/030] | Train Loss: 73.7715\n",
      "Validation Loss: 67.8591\n",
      "Epoch [014/030] | Train Loss: 75.3136\n",
      "Validation Loss: 62.7719\n",
      "Epoch [015/030] | Train Loss: 84.8933\n",
      "Validation Loss: 75.4822\n",
      "Epoch [016/030] | Train Loss: 70.3304\n",
      "Validation Loss: 66.2607\n",
      "Epoch [017/030] | Train Loss: 72.8665\n",
      "Validation Loss: 71.1300\n",
      "Epoch [018/030] | Train Loss: 72.1464\n",
      "Validation Loss: 69.1542\n",
      "Epoch [019/030] | Train Loss: 77.4586\n",
      "Validation Loss: 62.6945\n",
      "Epoch [020/030] | Train Loss: 84.8629\n",
      "Validation Loss: 66.8055\n",
      "Epoch [021/030] | Train Loss: 75.3985\n",
      "Validation Loss: 62.3852\n",
      "Epoch [022/030] | Train Loss: 78.1103\n",
      "Validation Loss: 72.2044\n",
      "Epoch [023/030] | Train Loss: 76.7757\n",
      "Validation Loss: 65.4010\n",
      "Epoch [024/030] | Train Loss: 77.0109\n",
      "Validation Loss: 73.7682\n",
      "Epoch [025/030] | Train Loss: 78.2812\n",
      "Validation Loss: 64.6515\n",
      "Epoch [026/030] | Train Loss: 71.0411\n",
      "Validation Loss: 70.3691\n",
      "Epoch [027/030] | Train Loss: 86.8514\n",
      "Validation Loss: 72.0689\n",
      "Epoch [028/030] | Train Loss: 75.6236\n",
      "Validation Loss: 62.9970\n",
      "Epoch [029/030] | Train Loss: 74.5230\n",
      "Validation Loss: 62.6732\n",
      "Epoch [030/030] | Train Loss: 76.7411\n",
      "Validation Loss: 68.5096\n"
     ]
    }
   ],
   "source": [
    "# Running our training loop\n",
    "num_epochs = 30\n",
    "model.to(device)\n",
    "for epoch in range(num_epochs):\n",
    "    train(model, train_loader, criterion, optimizer, epoch, num_epochs)\n",
    "    validate(model, test_loader, criterion, device)"
   ]
  },
  {
   "cell_type": "code",
   "execution_count": 35,
   "metadata": {},
   "outputs": [
    {
     "data": {
      "text/plain": [
       "[<matplotlib.lines.Line2D at 0x20ff985a510>,\n",
       " <matplotlib.lines.Line2D at 0x20f8c0c51d0>]"
      ]
     },
     "execution_count": 35,
     "metadata": {},
     "output_type": "execute_result"
    },
    {
     "data": {
      "image/png": "[encoded data removed]",
      "text/plain": [
       "<Figure size 640x480 with 1 Axes>"
      ]
     },
     "metadata": {},
     "output_type": "display_data"
    }
   ],
   "source": [
    "# Creating a Line Chart of Our Data\n",
    "plt.plot(range(len(train_losses)), train_losses, val_losses)"
   ]
  },
  {
   "cell_type": "markdown",
   "metadata": {},
   "source": [
    "4. Let's teach Multiple Regresion to compare results"
   ]
  },
  {
   "cell_type": "code",
   "execution_count": null,
   "metadata": {},
   "outputs": [],
   "source": []
  }
 ],
 "metadata": {
  "kernelspec": {
   "display_name": "Python 3",
   "language": "python",
   "name": "python3"
  },
  "language_info": {
   "codemirror_mode": {
    "name": "ipython",
    "version": 3
   },
   "file_extension": ".py",
   "mimetype": "text/x-python",
   "name": "python",
   "nbconvert_exporter": "python",
   "pygments_lexer": "ipython3",
   "version": "3.11.3"
  }
 },
 "nbformat": 4,
 "nbformat_minor": 2
}
