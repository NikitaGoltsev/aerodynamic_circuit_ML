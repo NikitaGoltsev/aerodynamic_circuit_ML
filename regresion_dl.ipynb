{
 "cells": [
  {
   "cell_type": "code",
   "execution_count": 43,
   "metadata": {},
   "outputs": [],
   "source": [
    "import numpy as np\n",
    "import pandas as pd\n",
    "import seaborn as sns\n",
    "import random\n",
    "from warnings import filterwarnings\n",
    "import torch\n",
    "import torch.nn as nn\n",
    "import torch.optim as optim\n",
    "import torch.utils.data as Data\n",
    "from torch.utils.data import DataLoader, Dataset, random_split\n",
    "import torch.utils.data as data_utils\n",
    "import torch.nn.functional as F\n",
    "from sklearn import preprocessing\n",
    "from sklearn.preprocessing import StandardScaler\n",
    "from sklearn.model_selection import train_test_split\n",
    "from sklearn.metrics import accuracy_score, mean_squared_error, r2_score, mean_absolute_percentage_error\n",
    "import matplotlib.pyplot as plt\n",
    "from tqdm import tqdm\n",
    "\n",
    "import graphviz\n",
    "import hiddenlayer as hl\n",
    "\n",
    "filterwarnings('ignore')"
   ]
  },
  {
   "cell_type": "markdown",
   "metadata": {},
   "source": [
    "1. Our date here is csv file"
   ]
  },
  {
   "cell_type": "code",
   "execution_count": 44,
   "metadata": {},
   "outputs": [
    {
     "name": "stdout",
     "output_type": "stream",
     "text": [
      "   axial_max   tang_max  index_of_axm  index_of_tnm  axial_in_mxt   \n",
      "0 -16.549675 -17.654378            28            48    -10.975493  \\\n",
      "1 -16.564726 -17.815883            28            52    -14.410172   \n",
      "2 -16.335568 -17.578816            28            50    -12.664116   \n",
      "3 -15.968865 -17.108087            28            47    -10.236513   \n",
      "4 -15.227270 -16.266240            28            49    -12.056063   \n",
      "5 -14.682051 -15.377140            27            51    -13.252567   \n",
      "6 -14.086215 -14.515554            27            50    -12.391912   \n",
      "7 -13.962619 -13.729980            28            45     -9.941273   \n",
      "8 -13.620183 -13.183838            27            44     -9.637045   \n",
      "9 -12.883969 -11.235115            24            41     -8.141471   \n",
      "\n",
      "   tang_in_mxa  cone_angl   frequancy  \n",
      "0   -16.597827          4  126.984123  \n",
      "1   -16.724255          4  126.984123  \n",
      "2   -16.415995          4  125.152626  \n",
      "3   -15.878571          4  120.879120  \n",
      "4   -15.246275          4  114.774117  \n",
      "5   -14.618555          4  110.500610  \n",
      "6   -13.732776          4  106.837608  \n",
      "7   -13.021375          4  103.174606  \n",
      "8   -12.329567          4  100.122101  \n",
      "9    -9.640001          4   94.017097  \n"
     ]
    }
   ],
   "source": [
    "df = pd.read_csv('./data/regresion_data.csv')\n",
    "df = df.drop(columns='Unnamed: 0')\n",
    "# there is no frq if there are no aerodnamic circuit => \n",
    "# => if label != 1.\n",
    "# then\n",
    "index_names = df[(df['label'] == 0)].index\n",
    "df.drop(index_names, inplace = True)\n",
    "# Also, after that segregation by the label, we can drop label column\n",
    "df = df.drop(columns='label')\n",
    "print(df.head(10))"
   ]
  },
  {
   "cell_type": "code",
   "execution_count": 45,
   "metadata": {},
   "outputs": [
    {
     "data": {
      "text/html": [
       "<div>\n",
       "<style scoped>\n",
       "    .dataframe tbody tr th:only-of-type {\n",
       "        vertical-align: middle;\n",
       "    }\n",
       "\n",
       "    .dataframe tbody tr th {\n",
       "        vertical-align: top;\n",
       "    }\n",
       "\n",
       "    .dataframe thead th {\n",
       "        text-align: right;\n",
       "    }\n",
       "</style>\n",
       "<table border=\"1\" class=\"dataframe\">\n",
       "  <thead>\n",
       "    <tr style=\"text-align: right;\">\n",
       "      <th></th>\n",
       "      <th>axial_max</th>\n",
       "      <th>tang_max</th>\n",
       "      <th>index_of_axm</th>\n",
       "      <th>index_of_tnm</th>\n",
       "      <th>axial_in_mxt</th>\n",
       "      <th>tang_in_mxa</th>\n",
       "      <th>cone_angl</th>\n",
       "      <th>frequancy</th>\n",
       "    </tr>\n",
       "  </thead>\n",
       "  <tbody>\n",
       "    <tr>\n",
       "      <th>axial_max</th>\n",
       "      <td>1.000000</td>\n",
       "      <td>0.900749</td>\n",
       "      <td>-0.729426</td>\n",
       "      <td>-0.752424</td>\n",
       "      <td>0.602443</td>\n",
       "      <td>0.899512</td>\n",
       "      <td>0.213329</td>\n",
       "      <td>-0.883728</td>\n",
       "    </tr>\n",
       "    <tr>\n",
       "      <th>tang_max</th>\n",
       "      <td>0.900749</td>\n",
       "      <td>1.000000</td>\n",
       "      <td>-0.804928</td>\n",
       "      <td>-0.780352</td>\n",
       "      <td>0.524339</td>\n",
       "      <td>0.979297</td>\n",
       "      <td>0.144075</td>\n",
       "      <td>-0.931279</td>\n",
       "    </tr>\n",
       "    <tr>\n",
       "      <th>index_of_axm</th>\n",
       "      <td>-0.729426</td>\n",
       "      <td>-0.804928</td>\n",
       "      <td>1.000000</td>\n",
       "      <td>0.613799</td>\n",
       "      <td>-0.345900</td>\n",
       "      <td>-0.759659</td>\n",
       "      <td>-0.084282</td>\n",
       "      <td>0.740377</td>\n",
       "    </tr>\n",
       "    <tr>\n",
       "      <th>index_of_tnm</th>\n",
       "      <td>-0.752424</td>\n",
       "      <td>-0.780352</td>\n",
       "      <td>0.613799</td>\n",
       "      <td>1.000000</td>\n",
       "      <td>-0.899130</td>\n",
       "      <td>-0.836412</td>\n",
       "      <td>-0.228411</td>\n",
       "      <td>0.751852</td>\n",
       "    </tr>\n",
       "    <tr>\n",
       "      <th>axial_in_mxt</th>\n",
       "      <td>0.602443</td>\n",
       "      <td>0.524339</td>\n",
       "      <td>-0.345900</td>\n",
       "      <td>-0.899130</td>\n",
       "      <td>1.000000</td>\n",
       "      <td>0.594057</td>\n",
       "      <td>0.247548</td>\n",
       "      <td>-0.480937</td>\n",
       "    </tr>\n",
       "    <tr>\n",
       "      <th>tang_in_mxa</th>\n",
       "      <td>0.899512</td>\n",
       "      <td>0.979297</td>\n",
       "      <td>-0.759659</td>\n",
       "      <td>-0.836412</td>\n",
       "      <td>0.594057</td>\n",
       "      <td>1.000000</td>\n",
       "      <td>0.175369</td>\n",
       "      <td>-0.944057</td>\n",
       "    </tr>\n",
       "    <tr>\n",
       "      <th>cone_angl</th>\n",
       "      <td>0.213329</td>\n",
       "      <td>0.144075</td>\n",
       "      <td>-0.084282</td>\n",
       "      <td>-0.228411</td>\n",
       "      <td>0.247548</td>\n",
       "      <td>0.175369</td>\n",
       "      <td>1.000000</td>\n",
       "      <td>-0.074179</td>\n",
       "    </tr>\n",
       "    <tr>\n",
       "      <th>frequancy</th>\n",
       "      <td>-0.883728</td>\n",
       "      <td>-0.931279</td>\n",
       "      <td>0.740377</td>\n",
       "      <td>0.751852</td>\n",
       "      <td>-0.480937</td>\n",
       "      <td>-0.944057</td>\n",
       "      <td>-0.074179</td>\n",
       "      <td>1.000000</td>\n",
       "    </tr>\n",
       "  </tbody>\n",
       "</table>\n",
       "</div>"
      ],
      "text/plain": [
       "              axial_max  tang_max  index_of_axm  index_of_tnm  axial_in_mxt   \n",
       "axial_max      1.000000  0.900749     -0.729426     -0.752424      0.602443  \\\n",
       "tang_max       0.900749  1.000000     -0.804928     -0.780352      0.524339   \n",
       "index_of_axm  -0.729426 -0.804928      1.000000      0.613799     -0.345900   \n",
       "index_of_tnm  -0.752424 -0.780352      0.613799      1.000000     -0.899130   \n",
       "axial_in_mxt   0.602443  0.524339     -0.345900     -0.899130      1.000000   \n",
       "tang_in_mxa    0.899512  0.979297     -0.759659     -0.836412      0.594057   \n",
       "cone_angl      0.213329  0.144075     -0.084282     -0.228411      0.247548   \n",
       "frequancy     -0.883728 -0.931279      0.740377      0.751852     -0.480937   \n",
       "\n",
       "              tang_in_mxa  cone_angl  frequancy  \n",
       "axial_max        0.899512   0.213329  -0.883728  \n",
       "tang_max         0.979297   0.144075  -0.931279  \n",
       "index_of_axm    -0.759659  -0.084282   0.740377  \n",
       "index_of_tnm    -0.836412  -0.228411   0.751852  \n",
       "axial_in_mxt     0.594057   0.247548  -0.480937  \n",
       "tang_in_mxa      1.000000   0.175369  -0.944057  \n",
       "cone_angl        0.175369   1.000000  -0.074179  \n",
       "frequancy       -0.944057  -0.074179   1.000000  "
      ]
     },
     "execution_count": 45,
     "metadata": {},
     "output_type": "execute_result"
    }
   ],
   "source": [
    "df.corr()"
   ]
  },
  {
   "cell_type": "code",
   "execution_count": 46,
   "metadata": {},
   "outputs": [
    {
     "data": {
      "text/plain": [
       "<Axes: >"
      ]
     },
     "execution_count": 46,
     "metadata": {},
     "output_type": "execute_result"
    },
    {
     "data": {
      "image/png": "[encoded data removed]",
      "text/plain": [
       "<Figure size 640x480 with 2 Axes>"
      ]
     },
     "metadata": {},
     "output_type": "display_data"
    }
   ],
   "source": [
    "# check of independense\n",
    "\n",
    "# Lets build something to visualise undepandance od data features\n",
    "corr = df.iloc[:,:].corr(method='pearson')\n",
    "cmap = sns.diverging_palette(250, 354, 80, 60, center = 'dark', as_cmap = True)\n",
    "sns.heatmap(corr, vmax=1, vmin=-.5, cmap=cmap, square=True, linewidths=.2)"
   ]
  },
  {
   "cell_type": "code",
   "execution_count": 47,
   "metadata": {},
   "outputs": [
    {
     "data": {
      "text/plain": [
       "<Axes: >"
      ]
     },
     "execution_count": 47,
     "metadata": {},
     "output_type": "execute_result"
    },
    {
     "data": {
      "image/png": "[encoded data removed]",
      "text/plain": [
       "<Figure size 640x480 with 1 Axes>"
      ]
     },
     "metadata": {},
     "output_type": "display_data"
    }
   ],
   "source": [
    "df['frequancy'].hist()"
   ]
  },
  {
   "cell_type": "markdown",
   "metadata": {},
   "source": [
    "2. Let's try with not full data"
   ]
  },
  {
   "cell_type": "code",
   "execution_count": 48,
   "metadata": {},
   "outputs": [
    {
     "name": "stdout",
     "output_type": "stream",
     "text": [
      "(492, 3)\n"
     ]
    }
   ],
   "source": [
    "df_first_modl = df[['tang_max', 'tang_in_mxa', 'frequancy']]\n",
    "\n",
    "print(df_first_modl.shape)"
   ]
  },
  {
   "cell_type": "code",
   "execution_count": 49,
   "metadata": {},
   "outputs": [],
   "source": [
    "# determine the supported device\n",
    "def get_device():\n",
    "    if torch.cuda.is_available():\n",
    "        device = torch.device('cuda:0')\n",
    "    else:\n",
    "        device = torch.device('cpu') # don't have GPU \n",
    "    return device\n"
   ]
  },
  {
   "cell_type": "code",
   "execution_count": 50,
   "metadata": {},
   "outputs": [],
   "source": [
    "# Define a Dataset\n",
    "def dataframe_to_arrays(input_cols, output_cols, dataframe):\n",
    "    # Make a copy of the original dataframe\n",
    "    dataframe1 = dataframe.copy(deep=True)\n",
    "    # Convert non-numeric categorical columns to numbers\n",
    "    # Extract input & outupts as numpy arrays\n",
    "    inputs_array = dataframe1[input_cols].to_numpy()\n",
    "    targets_array = dataframe1[output_cols].to_numpy()\n",
    "    return inputs_array, targets_array\n",
    "\n",
    "'''\n",
    "inputs = torch.tensor(inputs_array, dtype=torch.float32)\n",
    "targets = torch.tensor(targets_array, dtype=torch.float32)\n",
    "'''\n",
    "\n",
    "# Define a Dataset\n",
    "class RegressionDataset(Dataset):\n",
    "    def __init__(self, X, y):\n",
    "        super().__init__()\n",
    "        self.X = torch.from_numpy(X.astype('float32'))\n",
    "        self.y = torch.from_numpy(y.astype('float32'))\n",
    "\n",
    "    def __len__(self):\n",
    "        return len(self.X)\n",
    "    \n",
    "    def __getitem__(self, index):\n",
    "        return self.X[index], self.y[index].unsqueeze(0)\n",
    "\n",
    "col = df_first_modl.columns\n",
    "inputs_array, targets_array = dataframe_to_arrays(col[0:1], col[2], df_first_modl)\n",
    "dataset = RegressionDataset(inputs_array, targets_array)"
   ]
  },
  {
   "cell_type": "code",
   "execution_count": 51,
   "metadata": {},
   "outputs": [],
   "source": [
    "# Like thrain/test/split ?\n",
    "train_dataset, test_dataset = random_split(dataset, lengths=[0.8, 0.2])\n",
    "\n",
    "# Create DataLoaders ? For what ?\n",
    "train_loader = DataLoader(\n",
    "    dataset=train_dataset,\n",
    "    batch_size=64,\n",
    "    shuffle=True\n",
    ")\n",
    "\n",
    "test_loader = DataLoader(\n",
    "    dataset=test_dataset,\n",
    "    batch_size=64,\n",
    "    shuffle=True\n",
    ")"
   ]
  },
  {
   "cell_type": "code",
   "execution_count": 52,
   "metadata": {},
   "outputs": [],
   "source": [
    "# Define Linear Regression Class\n",
    "class LinearRegressionSimple(nn.Module):\n",
    "    def __init__(self, in_features=1, out_features=1):\n",
    "        super().__init__()\n",
    "        self.linear = nn.Linear(\n",
    "            in_features=in_features, \n",
    "            out_features=out_features\n",
    "            )\n",
    "\n",
    "    def forward(self, x):\n",
    "        return self.linear(x)\n",
    "\n",
    "# Another regresion model\n",
    "# That's Multiple regression model\n",
    "class MultipleRegression(nn.Module):\n",
    "    \n",
    "    def __init__(self, n_weight:int):\n",
    "        super(MultipleRegression, self).__init__()\n",
    "        \"\"\"Initializing a Multiple regression model of the form:\n",
    "        \n",
    "    \n",
    "        Args:\n",
    "          n_weight (int): number of weigths\n",
    "  \n",
    "        \"\"\"\n",
    "        self.w = torch.randn(size =(n_weight,1), dtype=torch.double, \n",
    "                             requires_grad=True)\n",
    "        self.b = torch.randn(1, requires_grad=True)\n",
    "\n",
    "    def forward(self, X:torch.Tensor):\n",
    "        \"\"\"Forward pass for\n",
    "        y = X * w.T + b\n",
    "\n",
    "        Args:\n",
    "          X (torch.Tensor): 2D tensor of observations x features\n",
    "\n",
    "        Returns:\n",
    "          torch.Tensor: model predictions\n",
    "        \"\"\"\n",
    "        assert isinstance(X, torch.Tensor)\n",
    "        prediction = X @ self.w + self.b\n",
    "        return prediction"
   ]
  },
  {
   "cell_type": "markdown",
   "metadata": {},
   "source": [
    "3. Train with linear regresion model, to see the base result"
   ]
  },
  {
   "cell_type": "code",
   "execution_count": 53,
   "metadata": {},
   "outputs": [],
   "source": [
    "model = LinearRegressionSimple()\n",
    "\n",
    "# Adding Loss Function and Optimizer\n",
    "criterion = nn.MSELoss()\n",
    "optimizer = optim.SGD(params=model.parameters(), lr=0.001)\n",
    "\n",
    "# Defining our device\n",
    "device = 'cuda' if torch.cuda.is_available() else 'cpu'\n",
    "\n",
    "# Setting up lists to track losses\n",
    "train_losses = []\n",
    "val_losses = []\n",
    "\n",
    "# Defining a Training Function\n",
    "def train(model, train_loader, criterion, optimizer, epoch, num_epochs):\n",
    "    model.train()\n",
    "    train_loss = 0.0\n",
    "\n",
    "    for inputs, targets in train_loader:\n",
    "        inputs = inputs.to(device)\n",
    "        targets = targets.to(device)\n",
    "\n",
    "        # Forward pass\n",
    "        outputs = model(inputs)\n",
    "        loss = criterion(outputs, targets)\n",
    "        optimizer.zero_grad()\n",
    "        train_loss += loss.item()\n",
    "\n",
    "        # Backward pass and optimization\n",
    "        loss.backward()\n",
    "        optimizer.step()\n",
    "\n",
    "    avg_loss = train_loss/len(train_loader)\n",
    "    print(f'Epoch [{epoch + 1:03}/{num_epochs:03}] | Train Loss: {avg_loss:.4f}')\n",
    "    train_losses.append(train_loss/len(train_loader))\n",
    "\n",
    "# Defining a Validation Function\n",
    "def validate(model, val_loader, criterion, device):\n",
    "    model.eval()\n",
    "    val_loss = 0.0\n",
    "\n",
    "    with torch.no_grad():\n",
    "        for inputs, targets in val_loader:\n",
    "            inputs = inputs.to(device)\n",
    "            targets = targets.to(device)\n",
    "\n",
    "            # Forward pass\n",
    "            outputs = model(inputs)\n",
    "            loss = criterion(outputs, targets)\n",
    "            val_loss += loss.item()\n",
    "\n",
    "    avg_loss = val_loss / len(val_loader)\n",
    "    print(f'Validation Loss: {avg_loss:.4f}')\n",
    "    val_losses.append(avg_loss)"
   ]
  },
  {
   "cell_type": "code",
   "execution_count": 54,
   "metadata": {},
   "outputs": [
    {
     "name": "stdout",
     "output_type": "stream",
     "text": [
      "Epoch [001/030] | Train Loss: 2897.6640\n",
      "Validation Loss: 141.1249\n",
      "Epoch [002/030] | Train Loss: 90.8117\n",
      "Validation Loss: 70.2634\n",
      "Epoch [003/030] | Train Loss: 69.6964\n",
      "Validation Loss: 70.5186\n",
      "Epoch [004/030] | Train Loss: 74.4944\n",
      "Validation Loss: 73.7817\n"
     ]
    },
    {
     "name": "stdout",
     "output_type": "stream",
     "text": [
      "Epoch [005/030] | Train Loss: 70.8323\n",
      "Validation Loss: 72.5546\n",
      "Epoch [006/030] | Train Loss: 75.4238\n",
      "Validation Loss: 77.4766\n",
      "Epoch [007/030] | Train Loss: 67.3684\n",
      "Validation Loss: 71.9339\n",
      "Epoch [008/030] | Train Loss: 72.1778\n",
      "Validation Loss: 72.2922\n",
      "Epoch [009/030] | Train Loss: 71.3176\n",
      "Validation Loss: 75.4186\n",
      "Epoch [010/030] | Train Loss: 68.0963\n",
      "Validation Loss: 70.7673\n",
      "Epoch [011/030] | Train Loss: 69.3457\n",
      "Validation Loss: 73.0337\n",
      "Epoch [012/030] | Train Loss: 71.3709\n",
      "Validation Loss: 74.4803\n",
      "Epoch [013/030] | Train Loss: 67.0981\n",
      "Validation Loss: 72.7448\n",
      "Epoch [014/030] | Train Loss: 77.2520\n",
      "Validation Loss: 69.4070\n",
      "Epoch [015/030] | Train Loss: 80.6005\n",
      "Validation Loss: 68.0768\n",
      "Epoch [016/030] | Train Loss: 69.8930\n",
      "Validation Loss: 73.7655\n",
      "Epoch [017/030] | Train Loss: 71.4730\n",
      "Validation Loss: 76.6867\n",
      "Epoch [018/030] | Train Loss: 78.1640\n",
      "Validation Loss: 74.7834\n",
      "Epoch [019/030] | Train Loss: 68.5340\n",
      "Validation Loss: 74.2822\n",
      "Epoch [020/030] | Train Loss: 72.4292\n",
      "Validation Loss: 70.0835\n",
      "Epoch [021/030] | Train Loss: 72.2624\n",
      "Validation Loss: 68.0605\n",
      "Epoch [022/030] | Train Loss: 67.7497\n",
      "Validation Loss: 68.2219\n",
      "Epoch [023/030] | Train Loss: 74.5240\n",
      "Validation Loss: 71.0112\n",
      "Epoch [024/030] | Train Loss: 72.0501\n",
      "Validation Loss: 69.8216\n",
      "Epoch [025/030] | Train Loss: 72.4793\n",
      "Validation Loss: 69.9774\n",
      "Epoch [026/030] | Train Loss: 68.2022\n",
      "Validation Loss: 79.1843\n",
      "Epoch [027/030] | Train Loss: 72.6822\n",
      "Validation Loss: 77.3921\n",
      "Epoch [028/030] | Train Loss: 69.1138\n",
      "Validation Loss: 72.6334\n",
      "Epoch [029/030] | Train Loss: 75.1452\n",
      "Validation Loss: 72.8979\n",
      "Epoch [030/030] | Train Loss: 76.1021\n",
      "Validation Loss: 68.8731\n"
     ]
    }
   ],
   "source": [
    "# Running our training loop\n",
    "num_epochs = 30\n",
    "model.to(device)\n",
    "for epoch in range(num_epochs):\n",
    "    train(model, train_loader, criterion, optimizer, epoch, num_epochs)\n",
    "    validate(model, test_loader, criterion, device)"
   ]
  },
  {
   "cell_type": "code",
   "execution_count": 55,
   "metadata": {},
   "outputs": [
    {
     "data": {
      "text/plain": [
       "[<matplotlib.lines.Line2D at 0x17af161d010>,\n",
       " <matplotlib.lines.Line2D at 0x17af163add0>]"
      ]
     },
     "execution_count": 55,
     "metadata": {},
     "output_type": "execute_result"
    },
    {
     "data": {
      "image/png": "[encoded data removed]",
      "text/plain": [
       "<Figure size 640x480 with 1 Axes>"
      ]
     },
     "metadata": {},
     "output_type": "display_data"
    }
   ],
   "source": [
    "# Creating a Line Chart of Our Data\n",
    "plt.plot(range(len(train_losses)), train_losses, val_losses)"
   ]
  },
  {
   "cell_type": "markdown",
   "metadata": {},
   "source": [
    "4. Let's teach Multiple Regresion to compare results"
   ]
  },
  {
   "cell_type": "code",
   "execution_count": 56,
   "metadata": {},
   "outputs": [
    {
     "data": {
      "text/plain": [
       "\"\\nmymodel = MultipleRegression(n_weight = 3)\\n#myoptimizer = torch.optim.SGD(params = [mymodel.b,mymodel.w], lr = 1e-9, momentum =0.9)\\nmyoptimizer = torch.optim.Adam([mymodel.b, mymodel.w], lr = 0.005)\\nX = inputs_array\\ny = targets_array\\nmyMSE = list()\\nfor epoch in tqdm(range(5_000)):\\n    myoptimizer.zero_grad() # 1. Set gradients to zero\\n    predicted = mymodel(X) # 2. compute prediction (forward method)\\n    loss = F.mse_loss(predicted, y.reshape(-1,1)) # 3. compute MSE\\n    myMSE.append(loss)\\n    loss.backward() # 4. compute the gradient based on previous\\n    myoptimizer.step() # 5. myoptimizer updates parameters\\n    #print(f'epoch = {epoch:02d}, loss = {current_loss}, a = {w}, b = {b}') # 6.\\n\\n\\nplt.plot(myMSE)\\nplt.xlabel('Epoch (#)'), plt.ylabel('Mean squared Errors')\\n\""
      ]
     },
     "execution_count": 56,
     "metadata": {},
     "output_type": "execute_result"
    }
   ],
   "source": [
    "'''\n",
    "mymodel = MultipleRegression(n_weight = 3)\n",
    "#myoptimizer = torch.optim.SGD(params = [mymodel.b,mymodel.w], lr = 1e-9, momentum =0.9)\n",
    "myoptimizer = torch.optim.Adam([mymodel.b, mymodel.w], lr = 0.005)\n",
    "X = inputs_array\n",
    "y = targets_array\n",
    "myMSE = list()\n",
    "for epoch in tqdm(range(5_000)):\n",
    "    myoptimizer.zero_grad() # 1. Set gradients to zero\n",
    "    predicted = mymodel(X) # 2. compute prediction (forward method)\n",
    "    loss = F.mse_loss(predicted, y.reshape(-1,1)) # 3. compute MSE\n",
    "    myMSE.append(loss)\n",
    "    loss.backward() # 4. compute the gradient based on previous\n",
    "    myoptimizer.step() # 5. myoptimizer updates parameters\n",
    "    #print(f'epoch = {epoch:02d}, loss = {current_loss}, a = {w}, b = {b}') # 6.\n",
    "\n",
    "\n",
    "plt.plot(myMSE)\n",
    "plt.xlabel('Epoch (#)'), plt.ylabel('Mean squared Errors')\n",
    "'''"
   ]
  },
  {
   "cell_type": "code",
   "execution_count": 57,
   "metadata": {},
   "outputs": [
    {
     "name": "stdout",
     "output_type": "stream",
     "text": [
      "(393, 7) (393,)\n",
      "(99, 7) (99,)\n"
     ]
    }
   ],
   "source": [
    "input_df = df.drop(columns='frequancy')\n",
    "targe_df = df['frequancy']\n",
    "col_inp = input_df.columns\n",
    "\n",
    "X_train, X_test, y_train, y_test = train_test_split(input_df,\n",
    "                                                    targe_df,\n",
    "                                                    test_size=0.2)\n",
    "\n",
    "print(X_train.shape, y_train.shape)\n",
    "print(X_test.shape, y_test.shape)"
   ]
  },
  {
   "cell_type": "code",
   "execution_count": 58,
   "metadata": {},
   "outputs": [],
   "source": [
    "# Convert the data to torch tensors\n",
    "train_x = torch.tensor(X_train.values, dtype=torch.float)\n",
    "test_x = torch.tensor(X_test.values, dtype=torch.float)\n",
    "\n",
    "train_y = torch.tensor(y_train.values, dtype=torch.float)\n",
    "test_y = torch.tensor(y_test.values, dtype=torch.float)\n",
    "\n",
    "train_data = data_utils.TensorDataset(train_x, train_y)\n",
    "train_loader = data_utils.DataLoader(train_data, batch_size=100, shuffle=True)\n",
    "features_batch, target_batch = next(iter(train_loader))"
   ]
  },
  {
   "cell_type": "code",
   "execution_count": 59,
   "metadata": {},
   "outputs": [
    {
     "name": "stdout",
     "output_type": "stream",
     "text": [
      "Epoch [1/20000]: Step[1/4], Loss:10818.0020\n",
      "Epoch [1/20000]: Step[2/4], Loss:10857.1748\n",
      "Epoch [1/20000]: Step[3/4], Loss:10549.1436\n",
      "Epoch [1/20000]: Step[4/4], Loss:10055.0518\n",
      "Epoch [2001/20000]: Step[1/4], Loss:310.0598\n",
      "Epoch [2001/20000]: Step[2/4], Loss:398.9691\n",
      "Epoch [2001/20000]: Step[3/4], Loss:392.6972\n",
      "Epoch [2001/20000]: Step[4/4], Loss:382.9965\n",
      "Epoch [4001/20000]: Step[1/4], Loss:388.4227\n",
      "Epoch [4001/20000]: Step[2/4], Loss:343.0497\n",
      "Epoch [4001/20000]: Step[3/4], Loss:407.3942\n",
      "Epoch [4001/20000]: Step[4/4], Loss:326.5234\n",
      "Epoch [6001/20000]: Step[1/4], Loss:370.6558\n",
      "Epoch [6001/20000]: Step[2/4], Loss:352.5360\n",
      "Epoch [6001/20000]: Step[3/4], Loss:390.3402\n",
      "Epoch [6001/20000]: Step[4/4], Loss:344.1386\n",
      "Epoch [8001/20000]: Step[1/4], Loss:373.0721\n",
      "Epoch [8001/20000]: Step[2/4], Loss:348.7442\n",
      "Epoch [8001/20000]: Step[3/4], Loss:359.2443\n",
      "Epoch [8001/20000]: Step[4/4], Loss:376.0034\n",
      "Epoch [10001/20000]: Step[1/4], Loss:369.7084\n",
      "Epoch [10001/20000]: Step[2/4], Loss:356.5525\n",
      "Epoch [10001/20000]: Step[3/4], Loss:354.0671\n",
      "Epoch [10001/20000]: Step[4/4], Loss:375.8420\n",
      "Epoch [12001/20000]: Step[1/4], Loss:373.2043\n",
      "Epoch [12001/20000]: Step[2/4], Loss:380.4544\n",
      "Epoch [12001/20000]: Step[3/4], Loss:368.8336\n",
      "Epoch [12001/20000]: Step[4/4], Loss:332.5549\n",
      "Epoch [14001/20000]: Step[1/4], Loss:351.1137\n",
      "Epoch [14001/20000]: Step[2/4], Loss:342.9235\n",
      "Epoch [14001/20000]: Step[3/4], Loss:403.9316\n",
      "Epoch [14001/20000]: Step[4/4], Loss:356.2785\n",
      "Epoch [16001/20000]: Step[1/4], Loss:382.6330\n",
      "Epoch [16001/20000]: Step[2/4], Loss:344.6279\n",
      "Epoch [16001/20000]: Step[3/4], Loss:373.4450\n",
      "Epoch [16001/20000]: Step[4/4], Loss:353.4153\n",
      "Epoch [18001/20000]: Step[1/4], Loss:337.7625\n",
      "Epoch [18001/20000]: Step[2/4], Loss:360.2274\n",
      "Epoch [18001/20000]: Step[3/4], Loss:380.0233\n",
      "Epoch [18001/20000]: Step[4/4], Loss:374.3128\n",
      "Epoch [20001/20000]: Step[1/4], Loss:365.9206\n",
      "Epoch [20001/20000]: Step[2/4], Loss:366.1111\n",
      "Epoch [20001/20000]: Step[3/4], Loss:382.6794\n",
      "Epoch [20001/20000]: Step[4/4], Loss:334.0787\n"
     ]
    }
   ],
   "source": [
    "# Define some parameters\n",
    "input_shape = train_x.shape[1]\n",
    "output_shape = 1\n",
    "hidden_layers = 10\n",
    "loss_func = torch.nn.MSELoss()\n",
    "\n",
    "# Define the model\n",
    "model = torch.nn.Sequential(torch.nn.Linear(input_shape, hidden_layers),\n",
    "                            #torch.nn.Linear(hidden_layers, hidden_layers),\n",
    "                            #torch.nn.Linear(hidden_layers, hidden_layers),\n",
    "                            #torch.nn.Linear(hidden_layers, hidden_layers),\n",
    "                            torch.nn.Linear(hidden_layers, output_shape),\n",
    "                            )\n",
    "\n",
    "#  Visualize the model using `hiddenlayer` package !!!\n",
    "#  hl.build_graph(model, torch.zeros([10, input_shape]))\n",
    "\n",
    "optimizer = torch.optim.Adam(model.parameters(), lr=0.001)\n",
    "\n",
    "total_steps = len(train_loader)\n",
    "num_epochs = 20000\n",
    "for epoch in range(num_epochs + 1):\n",
    "  for i, (inputs, target) in enumerate(train_loader):\n",
    "    # here features and target are one batch of the training data like explained above\n",
    "\n",
    "    # perform a forward pass\n",
    "    output = model(inputs)\n",
    "    # calculate the loss\n",
    "    loss = loss_func(output, target)\n",
    "\n",
    "    # make the gradients zero\n",
    "    optimizer.zero_grad()\n",
    "\n",
    "    # backpropogate\n",
    "    loss.backward()\n",
    "\n",
    "    # update the parameters. Notice how simple it is here\n",
    "    optimizer.step()\n",
    "\n",
    "    if epoch % 2000 == 0:\n",
    "      print(\"Epoch [{}/{}]: Step[{}/{}], Loss:{:.4f}\"\n",
    "              .format(epoch+1, num_epochs, i+1, total_steps, loss.item()))"
   ]
  },
  {
   "cell_type": "code",
   "execution_count": 60,
   "metadata": {},
   "outputs": [
    {
     "name": "stdout",
     "output_type": "stream",
     "text": [
      "(99, 1)\n",
      "0.17375557087799928\n"
     ]
    }
   ],
   "source": [
    "model.eval()\n",
    "\n",
    "# Predict on the test set\n",
    "with torch.no_grad():\n",
    "  # Anything inside `torch.no_grad()`\n",
    "  # puts the `requires_grad` property to False.\n",
    "  y_pred = model(test_x)\n",
    "\n",
    "# convert the tensor to a numpy array\n",
    "y_pred = y_pred.detach().numpy()\n",
    "print(y_pred.shape)\n",
    "\n",
    "print(mean_absolute_percentage_error(y_test, y_pred))"
   ]
  },
  {
   "cell_type": "code",
   "execution_count": 61,
   "metadata": {},
   "outputs": [
    {
     "data": {
      "text/plain": [
       "'\\nfrom torchviz import make_dot\\n\\nbatch = next(iter(target))\\nyhat = model(batch.text)\\n\\nmake_dot(yhat, params=dict(list(model.named_parameters()))).render(\"rnn_torchviz\", format=\"png\")\\n'"
      ]
     },
     "execution_count": 61,
     "metadata": {},
     "output_type": "execute_result"
    }
   ],
   "source": [
    "class MLPRegressor(nn.Module):\n",
    "\n",
    "    def __init__(self, emb_szs, n_cont, out_sz, layers, p=0.5):\n",
    "        super().__init__()\n",
    "        self.embeds = nn.ModuleList([nn.Embedding(ni, nf) for ni,nf in emb_szs])\n",
    "        self.emb_drop = nn.Dropout(p)\n",
    "        self.bn_cont = nn.BatchNorm1d(n_cont)\n",
    "        \n",
    "        layerlist = []\n",
    "        n_emb = sum((nf for ni,nf in emb_szs))\n",
    "        n_in = n_emb + n_cont\n",
    "        \n",
    "        for i in layers:\n",
    "            layerlist.append(nn.Linear(n_in,i)) \n",
    "            layerlist.append(nn.ReLU(inplace=True))\n",
    "            layerlist.append(nn.BatchNorm1d(i))\n",
    "            layerlist.append(nn.Dropout(p))\n",
    "            n_in = i\n",
    "        layerlist.append(nn.Linear(layers[-1],out_sz))\n",
    "            \n",
    "        self.layers = nn.Sequential(*layerlist)\n",
    "    \n",
    "    def forward(self, x_cat, x_cont):\n",
    "        embeddings = []\n",
    "        for i,e in enumerate(self.embeds):\n",
    "            embeddings.append(e(x_cat[:,i]))\n",
    "        x = torch.cat(embeddings, 1)\n",
    "        x = self.emb_drop(x)\n",
    "        \n",
    "        x_cont = self.bn_cont(x_cont)\n",
    "        x = torch.cat([x, x_cont], 1)\n",
    "        x = self.layers(x)\n",
    "        return x\n",
    "\n"
   ]
  }
 ],
 "metadata": {
  "kernelspec": {
   "display_name": "Python 3",
   "language": "python",
   "name": "python3"
  },
  "language_info": {
   "codemirror_mode": {
    "name": "ipython",
    "version": 3
   },
   "file_extension": ".py",
   "mimetype": "text/x-python",
   "name": "python",
   "nbconvert_exporter": "python",
   "pygments_lexer": "ipython3",
   "version": "3.11.3"
  }
 },
 "nbformat": 4,
 "nbformat_minor": 2
}
