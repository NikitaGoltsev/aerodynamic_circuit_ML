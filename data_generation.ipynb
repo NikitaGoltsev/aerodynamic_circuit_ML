{
 "cells": [
  {
   "cell_type": "code",
   "execution_count": 48,
   "metadata": {},
   "outputs": [],
   "source": [
    "import pandas as pd\n",
    "import numpy as np\n",
    "#from sdv.tabular import GaussianCopula\n",
    "#from sdv import evaluate\n",
    "from sdv.datasets.local import load_csvs\n",
    "from sdv.single_table import GaussianCopulaSynthesizer\n",
    "from sdv.metadata import SingleTableMetadata"
   ]
  },
  {
   "cell_type": "code",
   "execution_count": 49,
   "metadata": {},
   "outputs": [
    {
     "name": "stdout",
     "output_type": "stream",
     "text": [
      "     Unnamed: 0  axial_max   tang_max  index_of_axm  index_of_tnm   \n",
      "0             0 -11.325155  -5.183648            14            37  \\\n",
      "1             1 -12.325132 -12.410678            27            41   \n",
      "2             2 -13.025043 -10.230951            23            42   \n",
      "3             3 -13.427819 -10.670756            30            48   \n",
      "4             4 -14.899402 -12.831543            25            44   \n",
      "..          ...        ...        ...           ...           ...   \n",
      "995         995 -14.281827  -9.020142            14            40   \n",
      "996         996 -13.826377 -10.176000            20            34   \n",
      "997         997 -12.992011 -12.263249            30            47   \n",
      "998         998 -12.000045  -3.395915             8            37   \n",
      "999         999 -13.158643  -6.667288            25            39   \n",
      "\n",
      "     axial_in_mxt  tang_in_mxa  cone_angl   frequancy  label  \n",
      "0       -9.813522    -4.383517         13   75.554969      1  \n",
      "1       -9.731013   -11.499586          5  127.906056      1  \n",
      "2       -9.401933   -10.341987          8   30.116459      0  \n",
      "3      -10.859497   -10.488216         14  131.938597      1  \n",
      "4      -11.519337   -10.208743         13  134.556344      1  \n",
      "..            ...          ...        ...         ...    ...  \n",
      "995    -12.878053    -8.064074         14   50.349035      0  \n",
      "996     -9.056936    -7.254401         13  106.330106      1  \n",
      "997     -9.773080   -10.007671         11  107.306360      1  \n",
      "998     -9.868777    -3.578939         10   13.209017      0  \n",
      "999     -8.384808    -6.126804         11   63.825782      0  \n",
      "\n",
      "[1000 rows x 10 columns]\n"
     ]
    },
    {
     "name": "stderr",
     "output_type": "stream",
     "text": [
      "c:\\Users\\nikgo\\AppData\\Local\\Programs\\Python\\Python311\\Lib\\site-packages\\sdv\\datasets\\local.py:31: UserWarning: Ignoring incompatible files ['data.xlsx', '~$data.xlsx'] in folder 'data/'.\n",
      "  warnings.warn(\n"
     ]
    }
   ],
   "source": [
    "datasets = load_csvs(folder_name='data/')\n",
    "data_table = datasets['regresion_data']\n",
    "\n",
    "print(data_table)"
   ]
  },
  {
   "cell_type": "code",
   "execution_count": 50,
   "metadata": {},
   "outputs": [],
   "source": [
    "data_table = data_table.drop(columns='Unnamed: 0')"
   ]
  },
  {
   "cell_type": "code",
   "execution_count": 51,
   "metadata": {},
   "outputs": [],
   "source": [
    "metadata = SingleTableMetadata()\n",
    "metadata.detect_from_dataframe(data=data_table)"
   ]
  },
  {
   "cell_type": "code",
   "execution_count": 52,
   "metadata": {},
   "outputs": [
    {
     "name": "stderr",
     "output_type": "stream",
     "text": [
      "c:\\Users\\nikgo\\AppData\\Local\\Programs\\Python\\Python311\\Lib\\site-packages\\rdt\\transformers\\numerical.py:112: UserWarning: No rounding scheme detected for column 'tang_max'. Data will not be rounded.\n",
      "  warnings.warn(\n",
      "c:\\Users\\nikgo\\AppData\\Local\\Programs\\Python\\Python311\\Lib\\site-packages\\rdt\\transformers\\numerical.py:112: UserWarning: No rounding scheme detected for column 'tang_in_mxa'. Data will not be rounded.\n",
      "  warnings.warn(\n"
     ]
    }
   ],
   "source": [
    "synthesizer = GaussianCopulaSynthesizer(metadata)\n",
    "synthesizer.fit(data_table)\n",
    "\n",
    "synthetic_data = synthesizer.sample(num_rows=1000)"
   ]
  },
  {
   "cell_type": "code",
   "execution_count": 53,
   "metadata": {},
   "outputs": [
    {
     "name": "stdout",
     "output_type": "stream",
     "text": [
      "     axial_max   tang_max  index_of_axm  index_of_tnm  axial_in_mxt   \n",
      "0   -11.317824  -4.436467            15            37     -9.641673  \\\n",
      "1   -12.349107 -12.956272            26            42     -9.964122   \n",
      "2   -13.242222  -8.850067            18            42     -9.382343   \n",
      "3   -13.504811 -10.833802            30            46    -11.458436   \n",
      "4   -14.897107 -12.102707            26            44    -11.246042   \n",
      "..         ...        ...           ...           ...           ...   \n",
      "995 -14.127574  -8.201173            14            40    -12.686833   \n",
      "996 -13.582380 -11.225239            17            34     -8.680484   \n",
      "997 -13.197142 -11.350339            30            46     -9.533367   \n",
      "998 -12.121391  -3.743495             8            36     -9.968690   \n",
      "999 -13.345262  -6.615433            26            37     -8.703808   \n",
      "\n",
      "     tang_in_mxa  cone_angl   frequancy  label  \n",
      "0      -4.598148         13   61.639315      1  \n",
      "1     -10.995031          6  133.410591      1  \n",
      "2      -9.774873          8  108.575098      0  \n",
      "3      -9.918396         14  136.301506      1  \n",
      "4     -11.697431         13  111.698054      1  \n",
      "..           ...        ...         ...    ...  \n",
      "995    -9.281195         14   21.935801      0  \n",
      "996    -8.413751         13   55.758328      1  \n",
      "997   -10.645677         11  126.745683      0  \n",
      "998    -2.271134         10   22.159799      0  \n",
      "999    -5.841656         11  106.575286      0  \n",
      "\n",
      "[1000 rows x 9 columns]\n"
     ]
    }
   ],
   "source": [
    "print(synthetic_data)"
   ]
  },
  {
   "cell_type": "code",
   "execution_count": 54,
   "metadata": {},
   "outputs": [],
   "source": [
    "synthetic_data.to_csv('./data/synthetic_data.csv')"
   ]
  }
 ],
 "metadata": {
  "kernelspec": {
   "display_name": "Python 3",
   "language": "python",
   "name": "python3"
  },
  "language_info": {
   "codemirror_mode": {
    "name": "ipython",
    "version": 3
   },
   "file_extension": ".py",
   "mimetype": "text/x-python",
   "name": "python",
   "nbconvert_exporter": "python",
   "pygments_lexer": "ipython3",
   "version": "3.11.3"
  },
  "orig_nbformat": 4
 },
 "nbformat": 4,
 "nbformat_minor": 2
}
