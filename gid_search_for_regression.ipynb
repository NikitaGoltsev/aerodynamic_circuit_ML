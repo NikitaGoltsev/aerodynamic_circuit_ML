{
 "cells": [
  {
   "cell_type": "code",
   "execution_count": 39,
   "metadata": {},
   "outputs": [],
   "source": [
    "import numpy as np\n",
    "import pandas as pd\n",
    "\n",
    "import matplotlib.pyplot as plt\n",
    "from sklearn.model_selection import train_test_split\n",
    "from sklearn.metrics import mean_absolute_percentage_error\n",
    "import seaborn as sns\n",
    "from sklearn.model_selection import GridSearchCV\n",
    "from sklearn.model_selection import RandomizedSearchCV\n",
    "\n",
    "from sklearn.linear_model import ElasticNet\n",
    "from sklearn.preprocessing import StandardScaler\n",
    "\n",
    "from matplotlib import colors # For intresting histes\n",
    "\n",
    "from warnings import filterwarnings\n",
    "filterwarnings('ignore')"
   ]
  },
  {
   "cell_type": "code",
   "execution_count": 40,
   "metadata": {},
   "outputs": [
    {
     "name": "stdout",
     "output_type": "stream",
     "text": [
      "     axial_max   tang_max  index_of_axm  index_of_tnm  axial_in_mxt   \n",
      "0   -16.549675 -17.654378            28            48    -10.975493  \\\n",
      "1   -16.564726 -17.815883            28            52    -14.410172   \n",
      "2   -16.335568 -17.578816            28            50    -12.664116   \n",
      "3   -15.968865 -17.108087            28            47    -10.236513   \n",
      "4   -15.227270 -16.266240            28            49    -12.056063   \n",
      "..         ...        ...           ...           ...           ...   \n",
      "701 -12.023019  -7.729243            22            39     -9.648130   \n",
      "702 -12.288681  -7.505596            25            40    -10.345298   \n",
      "703 -12.301400  -7.318260            23            40    -10.514462   \n",
      "704 -12.464419  -6.943085            23            39     -9.774318   \n",
      "705 -12.446023  -6.729242            24            37     -8.586651   \n",
      "\n",
      "     tang_in_mxa  cone_angl   frequancy  \n",
      "0     -16.597827          4  126.984123  \n",
      "1     -16.724255          4  126.984123  \n",
      "2     -16.415995          4  125.152626  \n",
      "3     -15.878571          4  120.879120  \n",
      "4     -15.246275          4  114.774117  \n",
      "..           ...        ...         ...  \n",
      "701    -6.059585         15   76.312576  \n",
      "702    -5.331225         15   77.533577  \n",
      "703    -5.200852         15   78.754578  \n",
      "704    -4.769759         15   77.533577  \n",
      "705    -4.348473         15   78.144081  \n",
      "\n",
      "[706 rows x 8 columns]\n"
     ]
    }
   ],
   "source": [
    "df = pd.read_csv('./data/regresion_data.csv')\n",
    "df = df.drop(columns=['label', 'Unnamed: 0'])\n",
    "print(df)\n",
    "\n",
    "X = df.drop(columns='frequancy')\n",
    "y = df['frequancy']"
   ]
  },
  {
   "cell_type": "code",
   "execution_count": 41,
   "metadata": {},
   "outputs": [],
   "source": [
    "X_train, X_test, y_train, y_test = train_test_split(\n",
    "  X, y, random_state=104, test_size=0.3, shuffle=True)\n",
    "sc = StandardScaler() \n",
    "X_train = sc.fit_transform(X_train) \n",
    "X_test = sc.transform(X_test)\n",
    "grid_param = {\n",
    "    'l1_ratio' : [0.0, 0.2, 0.5, 0.7, 1.0],\n",
    "    #'fit_intercept' : [True, False],\n",
    "    #'selection' : ['cyclic', 'random'],\n",
    "    #'warm_start' : [True, False],\n",
    "    #'alpha' : [ 0.2, 0.4, 0.5, 0.6, 0.8, 1.0]\n",
    "}\n",
    "\n",
    "Elastic_Net = ElasticNet()\n",
    "\n",
    "grid = GridSearchCV(Elastic_Net, param_grid=grid_param, cv=3, scoring='r2')\n",
    "model_grid = grid.fit(X, y)"
   ]
  },
  {
   "cell_type": "code",
   "execution_count": 42,
   "metadata": {},
   "outputs": [
    {
     "name": "stdout",
     "output_type": "stream",
     "text": [
      "Best hyperparameters are: {'l1_ratio': 1.0}\n",
      "Best score is: 0.8230117973667941\n"
     ]
    }
   ],
   "source": [
    "print('Best hyperparameters are: '+str(model_grid.best_params_))\n",
    "print('Best score is: '+str(model_grid.best_score_))"
   ]
  },
  {
   "cell_type": "code",
   "execution_count": 43,
   "metadata": {},
   "outputs": [
    {
     "data": {
      "text/html": [
       "<style>#sk-container-id-6 {color: black;background-color: white;}#sk-container-id-6 pre{padding: 0;}#sk-container-id-6 div.sk-toggleable {background-color: white;}#sk-container-id-6 label.sk-toggleable__label {cursor: pointer;display: block;width: 100%;margin-bottom: 0;padding: 0.3em;box-sizing: border-box;text-align: center;}#sk-container-id-6 label.sk-toggleable__label-arrow:before {content: \"▸\";float: left;margin-right: 0.25em;color: #696969;}#sk-container-id-6 label.sk-toggleable__label-arrow:hover:before {color: black;}#sk-container-id-6 div.sk-estimator:hover label.sk-toggleable__label-arrow:before {color: black;}#sk-container-id-6 div.sk-toggleable__content {max-height: 0;max-width: 0;overflow: hidden;text-align: left;background-color: #f0f8ff;}#sk-container-id-6 div.sk-toggleable__content pre {margin: 0.2em;color: black;border-radius: 0.25em;background-color: #f0f8ff;}#sk-container-id-6 input.sk-toggleable__control:checked~div.sk-toggleable__content {max-height: 200px;max-width: 100%;overflow: auto;}#sk-container-id-6 input.sk-toggleable__control:checked~label.sk-toggleable__label-arrow:before {content: \"▾\";}#sk-container-id-6 div.sk-estimator input.sk-toggleable__control:checked~label.sk-toggleable__label {background-color: #d4ebff;}#sk-container-id-6 div.sk-label input.sk-toggleable__control:checked~label.sk-toggleable__label {background-color: #d4ebff;}#sk-container-id-6 input.sk-hidden--visually {border: 0;clip: rect(1px 1px 1px 1px);clip: rect(1px, 1px, 1px, 1px);height: 1px;margin: -1px;overflow: hidden;padding: 0;position: absolute;width: 1px;}#sk-container-id-6 div.sk-estimator {font-family: monospace;background-color: #f0f8ff;border: 1px dotted black;border-radius: 0.25em;box-sizing: border-box;margin-bottom: 0.5em;}#sk-container-id-6 div.sk-estimator:hover {background-color: #d4ebff;}#sk-container-id-6 div.sk-parallel-item::after {content: \"\";width: 100%;border-bottom: 1px solid gray;flex-grow: 1;}#sk-container-id-6 div.sk-label:hover label.sk-toggleable__label {background-color: #d4ebff;}#sk-container-id-6 div.sk-serial::before {content: \"\";position: absolute;border-left: 1px solid gray;box-sizing: border-box;top: 0;bottom: 0;left: 50%;z-index: 0;}#sk-container-id-6 div.sk-serial {display: flex;flex-direction: column;align-items: center;background-color: white;padding-right: 0.2em;padding-left: 0.2em;position: relative;}#sk-container-id-6 div.sk-item {position: relative;z-index: 1;}#sk-container-id-6 div.sk-parallel {display: flex;align-items: stretch;justify-content: center;background-color: white;position: relative;}#sk-container-id-6 div.sk-item::before, #sk-container-id-6 div.sk-parallel-item::before {content: \"\";position: absolute;border-left: 1px solid gray;box-sizing: border-box;top: 0;bottom: 0;left: 50%;z-index: -1;}#sk-container-id-6 div.sk-parallel-item {display: flex;flex-direction: column;z-index: 1;position: relative;background-color: white;}#sk-container-id-6 div.sk-parallel-item:first-child::after {align-self: flex-end;width: 50%;}#sk-container-id-6 div.sk-parallel-item:last-child::after {align-self: flex-start;width: 50%;}#sk-container-id-6 div.sk-parallel-item:only-child::after {width: 0;}#sk-container-id-6 div.sk-dashed-wrapped {border: 1px dashed gray;margin: 0 0.4em 0.5em 0.4em;box-sizing: border-box;padding-bottom: 0.4em;background-color: white;}#sk-container-id-6 div.sk-label label {font-family: monospace;font-weight: bold;display: inline-block;line-height: 1.2em;}#sk-container-id-6 div.sk-label-container {text-align: center;}#sk-container-id-6 div.sk-container {/* jupyter's `normalize.less` sets `[hidden] { display: none; }` but bootstrap.min.css set `[hidden] { display: none !important; }` so we also need the `!important` here to be able to override the default hidden behavior on the sphinx rendered scikit-learn.org. See: https://github.com/scikit-learn/scikit-learn/issues/21755 */display: inline-block !important;position: relative;}#sk-container-id-6 div.sk-text-repr-fallback {display: none;}</style><div id=\"sk-container-id-6\" class=\"sk-top-container\"><div class=\"sk-text-repr-fallback\"><pre>ElasticNet(l1_ratio=1.0)</pre><b>In a Jupyter environment, please rerun this cell to show the HTML representation or trust the notebook. <br />On GitHub, the HTML representation is unable to render, please try loading this page with nbviewer.org.</b></div><div class=\"sk-container\" hidden><div class=\"sk-item\"><div class=\"sk-estimator sk-toggleable\"><input class=\"sk-toggleable__control sk-hidden--visually\" id=\"sk-estimator-id-6\" type=\"checkbox\" checked><label for=\"sk-estimator-id-6\" class=\"sk-toggleable__label sk-toggleable__label-arrow\">ElasticNet</label><div class=\"sk-toggleable__content\"><pre>ElasticNet(l1_ratio=1.0)</pre></div></div></div></div></div>"
      ],
      "text/plain": [
       "ElasticNet(l1_ratio=1.0)"
      ]
     },
     "execution_count": 43,
     "metadata": {},
     "output_type": "execute_result"
    }
   ],
   "source": [
    "dict_of_p = grid.best_params_\n",
    "\n",
    "Elastic_Net = ElasticNet(\n",
    "    l1_ratio = dict_of_p['l1_ratio'],\n",
    "    fit_intercept = dict_of_p['fit_intercept'],\n",
    "    selection = dict_of_p['selection'],\n",
    "    warm_start = dict_of_p['warm_start'],\n",
    "    alpha = dict_of_p['alpha']\n",
    ")\n",
    "\n",
    "Elastic_Net.fit(X_train, y_train)"
   ]
  },
  {
   "cell_type": "code",
   "execution_count": 44,
   "metadata": {},
   "outputs": [],
   "source": [
    "reg_pred = Elastic_Net.predict(X_test)"
   ]
  },
  {
   "cell_type": "code",
   "execution_count": 45,
   "metadata": {},
   "outputs": [
    {
     "data": {
      "text/plain": [
       "3.22740420206184e+16"
      ]
     },
     "execution_count": 45,
     "metadata": {},
     "output_type": "execute_result"
    }
   ],
   "source": [
    "mean_absolute_percentage_error(y_test, reg_pred)"
   ]
  },
  {
   "cell_type": "code",
   "execution_count": 46,
   "metadata": {},
   "outputs": [
    {
     "data": {
      "image/png": "[encoded data removed]",
      "text/plain": [
       "<Figure size 300x300 with 1 Axes>"
      ]
     },
     "metadata": {},
     "output_type": "display_data"
    }
   ],
   "source": [
    "losses = reg_pred - y_test\n",
    "#for i in range(reg_pred.shape[0]):\n",
    "    #l = reg_pred[i] - y_test[i]\n",
    "\n",
    "# Creating histogram\n",
    "fig, axs = plt.subplots(1, 1,\n",
    "                        figsize =(3, 3),\n",
    "                        tight_layout = True)\n",
    "legend = ['loss in moment']\n",
    "\n",
    "for s in ['top', 'bottom', 'left', 'right']:\n",
    "    axs.spines[s].set_visible(False)\n",
    "\n",
    "axs.xaxis.set_ticks_position('none')\n",
    "axs.yaxis.set_ticks_position('none')\n",
    "\n",
    "axs.xaxis.set_ticks_position('none')\n",
    "axs.yaxis.set_ticks_position('none')\n",
    "\n",
    "# Add x, y gridlines\n",
    "'''axs.grid(b = True, color ='grey',\n",
    "        linestyle ='-.', linewidth = 0.5,\n",
    "        alpha = 0.6)'''\n",
    "\n",
    "# Add Text watermark\n",
    "'''fig.text(0.9, 0.15, 'Jeeteshgavande30',\n",
    "         fontsize = 12,\n",
    "         color ='red',\n",
    "         ha ='right',\n",
    "         va ='bottom',\n",
    "         alpha = 0.7)'''\n",
    "\n",
    "#\n",
    "n_bins = 20\n",
    "N, bins, patches = axs.hist(losses, bins = n_bins)\n",
    "# Setting color\n",
    "fracs = ((N**(1 / 5)) / N.max())\n",
    "norm = colors.Normalize(fracs.min(), fracs.max())\n",
    " \n",
    "for thisfrac, thispatch in zip(fracs, patches):\n",
    "    color = plt.cm.viridis(norm(thisfrac))\n",
    "    thispatch.set_facecolor(color)\n",
    " \n",
    "# Adding extra features   \n",
    "plt.xlabel(\"Error in frequancy prediction [Hz]\")\n",
    "plt.ylabel(\"Number_of_predictions\")\n",
    "plt.legend(legend)\n",
    "plt.title('Errors in ElasticNet')\n",
    " \n",
    "# Show plot\n",
    "plt.show()\n"
   ]
  }
 ],
 "metadata": {
  "kernelspec": {
   "display_name": "Python 3",
   "language": "python",
   "name": "python3"
  },
  "language_info": {
   "codemirror_mode": {
    "name": "ipython",
    "version": 3
   },
   "file_extension": ".py",
   "mimetype": "text/x-python",
   "name": "python",
   "nbconvert_exporter": "python",
   "pygments_lexer": "ipython3",
   "version": "3.11.3"
  }
 },
 "nbformat": 4,
 "nbformat_minor": 2
}
