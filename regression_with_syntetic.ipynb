{
 "cells": [
  {
   "cell_type": "code",
   "execution_count": 11,
   "metadata": {},
   "outputs": [],
   "source": [
    "import numpy as np\n",
    "import pandas as pd\n",
    "import matplotlib.pyplot as plt\n",
    "from matplotlib import colors\n",
    "\n",
    "from sklearn.linear_model import LinearRegression\n",
    "from sklearn.linear_model import ElasticNet\n",
    "from sklearn.preprocessing import StandardScaler\n",
    "from sklearn.metrics import mean_absolute_percentage_error\n",
    "from sklearn.model_selection import train_test_split\n",
    "\n",
    "\n",
    "import seaborn as sns"
   ]
  },
  {
   "cell_type": "code",
   "execution_count": 13,
   "metadata": {},
   "outputs": [
    {
     "name": "stdout",
     "output_type": "stream",
     "text": [
      "    axial_max   tang_max  index_of_axm  index_of_tnm  axial_in_mxt   \n",
      "0  -11.317824  -4.436467            15            37     -9.641673  \\\n",
      "1  -12.349107 -12.956272            26            42     -9.964122   \n",
      "3  -13.504811 -10.833802            30            46    -11.458436   \n",
      "4  -14.897107 -12.102707            26            44    -11.246042   \n",
      "6  -12.351809 -15.722870            30            46     -7.269413   \n",
      "8  -12.789430 -13.894287            28            45     -8.394318   \n",
      "10 -11.303710 -10.391954            22            42     -9.096863   \n",
      "11 -11.105475  -9.973326            30            42     -8.874833   \n",
      "12 -11.024903  -6.124527            30            42     -7.343328   \n",
      "13 -11.939075 -14.071049            30            46     -6.912442   \n",
      "\n",
      "    tang_in_mxa  cone_angl   frequancy  \n",
      "0     -4.598148         13   61.639315  \n",
      "1    -10.995031          6  133.410591  \n",
      "3     -9.918396         14  136.301506  \n",
      "4    -11.697431         13  111.698054  \n",
      "6    -14.806419          9  134.868522  \n",
      "8    -10.761476          7  136.718205  \n",
      "10   -10.630846         11  136.183534  \n",
      "11    -6.124232         10  125.336810  \n",
      "12    -4.391343          6  120.385769  \n",
      "13   -14.765136         15  136.751609  \n",
      "   axial_max   tang_max  index_of_axm  index_of_tnm  axial_in_mxt   \n",
      "0 -16.549675 -17.654378            28            48    -10.975493  \\\n",
      "1 -16.564726 -17.815883            28            52    -14.410172   \n",
      "2 -16.335568 -17.578816            28            50    -12.664116   \n",
      "3 -15.968865 -17.108087            28            47    -10.236513   \n",
      "4 -15.227270 -16.266240            28            49    -12.056063   \n",
      "5 -14.682051 -15.377140            27            51    -13.252567   \n",
      "6 -14.086215 -14.515554            27            50    -12.391912   \n",
      "7 -13.962619 -13.729980            28            45     -9.941273   \n",
      "8 -13.620183 -13.183838            27            44     -9.637045   \n",
      "9 -12.883969 -11.235115            24            41     -8.141471   \n",
      "\n",
      "   tang_in_mxa  cone_angl   frequancy  \n",
      "0   -16.597827          4  126.984123  \n",
      "1   -16.724255          4  126.984123  \n",
      "2   -16.415995          4  125.152626  \n",
      "3   -15.878571          4  120.879120  \n",
      "4   -15.246275          4  114.774117  \n",
      "5   -14.618555          4  110.500610  \n",
      "6   -13.732776          4  106.837608  \n",
      "7   -13.021375          4  103.174606  \n",
      "8   -12.329567          4  100.122101  \n",
      "9    -9.640001          4   94.017097  \n"
     ]
    }
   ],
   "source": [
    "data = pd.read_csv('./data/synthetic_data.csv')\n",
    "data = data.drop(columns='Unnamed: 0')\n",
    "index_names = data[(data['label'] == 0)].index\n",
    "data.drop(index_names, inplace = True)\n",
    "# Also, after that segregation by the label, we can drop label column\n",
    "data = data.drop(columns='label')\n",
    "print(data.head(10))\n",
    "\n",
    "old = pd.read_csv('data/regresion_data.csv')\n",
    "old = old.drop(columns='Unnamed: 0')\n",
    "index_names = old[(old['label'] == 0)].index\n",
    "old.drop(index_names, inplace = True)\n",
    "# Also, after that segregation by the label, we can drop label column\n",
    "old = old.drop(columns='label')\n",
    "print(old.head(10))"
   ]
  },
  {
   "cell_type": "code",
   "execution_count": 14,
   "metadata": {},
   "outputs": [
    {
     "data": {
      "text/html": [
       "<div>\n",
       "<style scoped>\n",
       "    .dataframe tbody tr th:only-of-type {\n",
       "        vertical-align: middle;\n",
       "    }\n",
       "\n",
       "    .dataframe tbody tr th {\n",
       "        vertical-align: top;\n",
       "    }\n",
       "\n",
       "    .dataframe thead th {\n",
       "        text-align: right;\n",
       "    }\n",
       "</style>\n",
       "<table border=\"1\" class=\"dataframe\">\n",
       "  <thead>\n",
       "    <tr style=\"text-align: right;\">\n",
       "      <th></th>\n",
       "      <th>axial_max</th>\n",
       "      <th>tang_max</th>\n",
       "      <th>index_of_axm</th>\n",
       "      <th>index_of_tnm</th>\n",
       "      <th>axial_in_mxt</th>\n",
       "      <th>tang_in_mxa</th>\n",
       "      <th>cone_angl</th>\n",
       "      <th>frequancy</th>\n",
       "    </tr>\n",
       "  </thead>\n",
       "  <tbody>\n",
       "    <tr>\n",
       "      <th>axial_max</th>\n",
       "      <td>1.000000</td>\n",
       "      <td>0.435061</td>\n",
       "      <td>0.148640</td>\n",
       "      <td>-0.461871</td>\n",
       "      <td>0.536237</td>\n",
       "      <td>0.590159</td>\n",
       "      <td>0.028039</td>\n",
       "      <td>-0.089683</td>\n",
       "    </tr>\n",
       "    <tr>\n",
       "      <th>tang_max</th>\n",
       "      <td>0.435061</td>\n",
       "      <td>1.000000</td>\n",
       "      <td>-0.388126</td>\n",
       "      <td>-0.569802</td>\n",
       "      <td>-0.101863</td>\n",
       "      <td>0.902944</td>\n",
       "      <td>-0.046471</td>\n",
       "      <td>-0.608211</td>\n",
       "    </tr>\n",
       "    <tr>\n",
       "      <th>index_of_axm</th>\n",
       "      <td>0.148640</td>\n",
       "      <td>-0.388126</td>\n",
       "      <td>1.000000</td>\n",
       "      <td>0.284713</td>\n",
       "      <td>0.358643</td>\n",
       "      <td>-0.157947</td>\n",
       "      <td>0.076199</td>\n",
       "      <td>0.432091</td>\n",
       "    </tr>\n",
       "    <tr>\n",
       "      <th>index_of_tnm</th>\n",
       "      <td>-0.461871</td>\n",
       "      <td>-0.569802</td>\n",
       "      <td>0.284713</td>\n",
       "      <td>1.000000</td>\n",
       "      <td>-0.370660</td>\n",
       "      <td>-0.650616</td>\n",
       "      <td>-0.026374</td>\n",
       "      <td>0.413548</td>\n",
       "    </tr>\n",
       "    <tr>\n",
       "      <th>axial_in_mxt</th>\n",
       "      <td>0.536237</td>\n",
       "      <td>-0.101863</td>\n",
       "      <td>0.358643</td>\n",
       "      <td>-0.370660</td>\n",
       "      <td>1.000000</td>\n",
       "      <td>0.145328</td>\n",
       "      <td>0.113588</td>\n",
       "      <td>0.258037</td>\n",
       "    </tr>\n",
       "    <tr>\n",
       "      <th>tang_in_mxa</th>\n",
       "      <td>0.590159</td>\n",
       "      <td>0.902944</td>\n",
       "      <td>-0.157947</td>\n",
       "      <td>-0.650616</td>\n",
       "      <td>0.145328</td>\n",
       "      <td>1.000000</td>\n",
       "      <td>-0.024865</td>\n",
       "      <td>-0.521745</td>\n",
       "    </tr>\n",
       "    <tr>\n",
       "      <th>cone_angl</th>\n",
       "      <td>0.028039</td>\n",
       "      <td>-0.046471</td>\n",
       "      <td>0.076199</td>\n",
       "      <td>-0.026374</td>\n",
       "      <td>0.113588</td>\n",
       "      <td>-0.024865</td>\n",
       "      <td>1.000000</td>\n",
       "      <td>0.131531</td>\n",
       "    </tr>\n",
       "    <tr>\n",
       "      <th>frequancy</th>\n",
       "      <td>-0.089683</td>\n",
       "      <td>-0.608211</td>\n",
       "      <td>0.432091</td>\n",
       "      <td>0.413548</td>\n",
       "      <td>0.258037</td>\n",
       "      <td>-0.521745</td>\n",
       "      <td>0.131531</td>\n",
       "      <td>1.000000</td>\n",
       "    </tr>\n",
       "  </tbody>\n",
       "</table>\n",
       "</div>"
      ],
      "text/plain": [
       "              axial_max  tang_max  index_of_axm  index_of_tnm  axial_in_mxt   \n",
       "axial_max      1.000000  0.435061      0.148640     -0.461871      0.536237  \\\n",
       "tang_max       0.435061  1.000000     -0.388126     -0.569802     -0.101863   \n",
       "index_of_axm   0.148640 -0.388126      1.000000      0.284713      0.358643   \n",
       "index_of_tnm  -0.461871 -0.569802      0.284713      1.000000     -0.370660   \n",
       "axial_in_mxt   0.536237 -0.101863      0.358643     -0.370660      1.000000   \n",
       "tang_in_mxa    0.590159  0.902944     -0.157947     -0.650616      0.145328   \n",
       "cone_angl      0.028039 -0.046471      0.076199     -0.026374      0.113588   \n",
       "frequancy     -0.089683 -0.608211      0.432091      0.413548      0.258037   \n",
       "\n",
       "              tang_in_mxa  cone_angl  frequancy  \n",
       "axial_max        0.590159   0.028039  -0.089683  \n",
       "tang_max         0.902944  -0.046471  -0.608211  \n",
       "index_of_axm    -0.157947   0.076199   0.432091  \n",
       "index_of_tnm    -0.650616  -0.026374   0.413548  \n",
       "axial_in_mxt     0.145328   0.113588   0.258037  \n",
       "tang_in_mxa      1.000000  -0.024865  -0.521745  \n",
       "cone_angl       -0.024865   1.000000   0.131531  \n",
       "frequancy       -0.521745   0.131531   1.000000  "
      ]
     },
     "execution_count": 14,
     "metadata": {},
     "output_type": "execute_result"
    }
   ],
   "source": [
    "data.corr()"
   ]
  },
  {
   "cell_type": "code",
   "execution_count": 16,
   "metadata": {},
   "outputs": [
    {
     "data": {
      "text/plain": [
       "-1.1645863563720726"
      ]
     },
     "metadata": {},
     "output_type": "display_data"
    }
   ],
   "source": [
    "y = old['frequancy']\n",
    "y.columns = 'frequancy'\n",
    "X = old.drop(columns='frequancy', axis = 1)\n",
    "X_none, X_test, y_none, y_test = train_test_split(\n",
    "  X, y, random_state=104, test_size=0.3, shuffle=True)\n",
    "\n",
    "y = data['frequancy']\n",
    "X = data.drop(columns='frequancy', axis=1)\n",
    "\n",
    "sc = StandardScaler() \n",
    "#X_test = sc.transform(X_test)\n",
    "\n",
    "reg = LinearRegression()\n",
    "reg.fit(X, y)\n",
    "display(reg.score(X_test, y_test))"
   ]
  },
  {
   "cell_type": "code",
   "execution_count": 17,
   "metadata": {},
   "outputs": [
    {
     "data": {
      "text/plain": [
       "0.2869913995621389"
      ]
     },
     "execution_count": 17,
     "metadata": {},
     "output_type": "execute_result"
    }
   ],
   "source": [
    "# MSE and MSPE\n",
    "linreg_pred = reg.predict(X_test)\n",
    "mean_absolute_percentage_error(y_test, linreg_pred)"
   ]
  },
  {
   "cell_type": "code",
   "execution_count": 18,
   "metadata": {},
   "outputs": [
    {
     "data": {
      "text/plain": [
       "-1.125551176772201"
      ]
     },
     "metadata": {},
     "output_type": "display_data"
    },
    {
     "data": {
      "text/plain": [
       "0.2859603000760893"
      ]
     },
     "execution_count": 18,
     "metadata": {},
     "output_type": "execute_result"
    }
   ],
   "source": [
    "model = ElasticNet()\n",
    "model.fit(X, y)\n",
    "display(model.score(X_test, y_test))\n",
    "\n",
    "reg_pred = model.predict(X_test)\n",
    "mean_absolute_percentage_error(y_test, reg_pred)"
   ]
  }
 ],
 "metadata": {
  "kernelspec": {
   "display_name": "Python 3",
   "language": "python",
   "name": "python3"
  },
  "language_info": {
   "codemirror_mode": {
    "name": "ipython",
    "version": 3
   },
   "file_extension": ".py",
   "mimetype": "text/x-python",
   "name": "python",
   "nbconvert_exporter": "python",
   "pygments_lexer": "ipython3",
   "version": "3.11.3"
  },
  "orig_nbformat": 4
 },
 "nbformat": 4,
 "nbformat_minor": 2
}
