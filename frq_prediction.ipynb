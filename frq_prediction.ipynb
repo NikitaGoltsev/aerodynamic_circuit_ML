{
 "cells": [
  {
   "cell_type": "code",
   "execution_count": 2,
   "metadata": {},
   "outputs": [],
   "source": [
    "import numpy as np\n",
    "import pandas as pd\n",
    "import matplotlib.pyplot as plt\n",
    "from sklearn.model_selection import train_test_split"
   ]
  },
  {
   "cell_type": "code",
   "execution_count": 3,
   "metadata": {},
   "outputs": [
    {
     "name": "stdout",
     "output_type": "stream",
     "text": [
      "    Unnamed: 0  axial_max   tang_max  index_of_axm  index_of_tnm   \n",
      "0            0 -16.549675 -17.654378            28            48  \\\n",
      "1            1 -16.564726 -17.815883            28            52   \n",
      "2            2 -16.335568 -17.578816            28            50   \n",
      "3            3 -15.968865 -17.108087            28            47   \n",
      "4            4 -15.227270 -16.266240            28            49   \n",
      "5            5 -14.682051 -15.377140            27            51   \n",
      "6            6 -14.086215 -14.515554            27            50   \n",
      "7            7 -13.962619 -13.729980            28            45   \n",
      "8            8 -13.620183 -13.183838            27            44   \n",
      "9            9 -12.883969 -11.235115            24            41   \n",
      "10          10 -13.098969 -11.084784            26            42   \n",
      "11          11 -12.751146 -10.814068            25            42   \n",
      "12          12 -12.733408 -10.284844            26            41   \n",
      "13          13 -12.569104  -9.657776            25            41   \n",
      "14          14 -12.345295  -9.201949            26            41   \n",
      "\n",
      "    axial_in_mxt  tang_in_mxa  cone_angl  label  \n",
      "0     -10.975493   -16.597827          4      1  \n",
      "1     -14.410172   -16.724255          4      1  \n",
      "2     -12.664116   -16.415995          4      1  \n",
      "3     -10.236513   -15.878571          4      1  \n",
      "4     -12.056063   -15.246275          4      1  \n",
      "5     -13.252567   -14.618555          4      1  \n",
      "6     -12.391912   -13.732776          4      1  \n",
      "7      -9.941273   -13.021375          4      1  \n",
      "8      -9.637045   -12.329567          4      1  \n",
      "9      -8.141471    -9.640001          4      1  \n",
      "10     -9.056235    -8.825162          4      1  \n",
      "11     -9.361753    -8.678182          4      1  \n",
      "12     -8.761382    -8.237699          4      1  \n",
      "13     -8.909603    -7.845732          4      1  \n",
      "14     -8.901943    -7.313921          4      1  \n"
     ]
    }
   ],
   "source": [
    "data = pd.read_csv('./data/update_data.csv')\n",
    "\n",
    "print(data.head(15))"
   ]
  },
  {
   "cell_type": "code",
   "execution_count": null,
   "metadata": {},
   "outputs": [],
   "source": []
  }
 ],
 "metadata": {
  "kernelspec": {
   "display_name": "Python 3",
   "language": "python",
   "name": "python3"
  },
  "language_info": {
   "codemirror_mode": {
    "name": "ipython",
    "version": 3
   },
   "file_extension": ".py",
   "mimetype": "text/x-python",
   "name": "python",
   "nbconvert_exporter": "python",
   "pygments_lexer": "ipython3",
   "version": "3.11.3"
  },
  "orig_nbformat": 4
 },
 "nbformat": 4,
 "nbformat_minor": 2
}
